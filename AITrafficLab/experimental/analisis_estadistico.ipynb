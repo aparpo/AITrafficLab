{
 "cells": [
  {
   "cell_type": "code",
   "execution_count": 5,
   "metadata": {},
   "outputs": [],
   "source": [
    "import siaco\n",
    "import iaco\n",
    "import ipr\n",
    "import ecosystem\n",
    "import ootraci\n",
    "import generators\n",
    "import agents\n",
    "from statistics import mean\n",
    "from connection import Sumo_connection\n",
    "import random\n",
    "import networkx as nx\n",
    "from batch2 import Batch_proccessing\n",
    "import matplotlib.pyplot as plt\n",
    "\n",
    "from scipy import stats\n",
    "import statsmodels.api as sm\n",
    "import statistics as st"
   ]
  },
  {
   "cell_type": "markdown",
   "metadata": {},
   "source": [
    "# Estudio estadístico"
   ]
  },
  {
   "cell_type": "markdown",
   "metadata": {},
   "source": [
    "### Creación del entorno de simulación"
   ]
  },
  {
   "cell_type": "code",
   "execution_count": 2,
   "metadata": {},
   "outputs": [],
   "source": [
    "path = \"../test\"\n",
    "simm_conn = Sumo_connection()\n",
    "observables = { \"co2\":simm_conn.vehicle_info.get_co2_emission}\n",
    "simulations = 50\n",
    "iters = 1000"
   ]
  },
  {
   "cell_type": "code",
   "execution_count": 3,
   "metadata": {},
   "outputs": [],
   "source": [
    "# Crear un grafo de cuadrícula de tamaño 5x5\n",
    "rows, cols = 5, 5\n",
    "G = nx.grid_2d_graph(rows, cols)\n",
    "\n",
    "# Renombrar los nodos para que no sean tuplas\n",
    "mapping = { (i, j): i * cols + j for i, j in G.nodes() }\n",
    "G = nx.relabel_nodes(G, mapping)\n",
    "G.add_nodes_from([-1,-2,-3,-4])\n",
    "G.add_edges_from([(-1,0),(24,-2), (-3,10),(10,-3),(14,-4),(-4,14)])\n",
    "G = nx.DiGraph(G)\n",
    "\n",
    "place= \"/Cuadricula\"\n",
    "filepath = path+place\n",
    "# filepath = simm_conn.import_data_from(place, path)"
   ]
  },
  {
   "cell_type": "code",
   "execution_count": 4,
   "metadata": {},
   "outputs": [],
   "source": [
    "class Custom_vehicle_generator(generators.Vehicle_generator):\n",
    "    def generate_vehicle(self,model):\n",
    "        if random.random() < 0.5:\n",
    "            return self.vehicle_class(model, model.roads[-3, 10], model.roads[14, -4], observables=self.observables, **self.vehicle_kwargs) \n",
    "        else:\n",
    "            return self.vehicle_class(model, model.roads[-1, 0], model.roads[24, -2], observables=self.observables, **self.vehicle_kwargs) \n",
    "    \n",
    "    def generate_vehicles(self, model, *args):\n",
    "        return [self.generate_vehicle(model) for _ in range(self.get_vehicle_number())]\n",
    "    \n",
    "    def get_vehicle_number(self):\n",
    "        if random.random() < 0.5:\n",
    "            return 1\n",
    "        return 0\n",
    "    \n",
    "    def initial_generation(self, model):\n",
    "        return self.generate_vehicles(model)"
   ]
  },
  {
   "cell_type": "markdown",
   "metadata": {},
   "source": [
    "## Obtención de datos"
   ]
  },
  {
   "cell_type": "markdown",
   "metadata": {},
   "source": [
    "### Modelo básico: Dijkstra"
   ]
  },
  {
   "cell_type": "code",
   "execution_count": 5,
   "metadata": {},
   "outputs": [
    {
     "name": "stderr",
     "output_type": "stream",
     "text": [
      "c:\\Users\\colla\\anaconda3\\envs\\tfg\\Lib\\site-packages\\mesa\\time.py:82: FutureWarning: The AgentSet is experimental. It may be changed or removed in any and all future releases, including patch releases.\n",
      "We would love to hear what you think about this new feature. If you have any thoughts, share them with us here: https://github.com/projectmesa/mesa/discussions/1919\n",
      "  self._agents: AgentSet = AgentSet(agents, model)\n"
     ]
    }
   ],
   "source": [
    "\n",
    "generator = Custom_vehicle_generator(simm_conn, observables, agents.Dijkstra_vehicle)\n",
    "eco = ecosystem.Ecosystem(\n",
    "                            filepath,\n",
    "                            simm_conn, \n",
    "                            node_generator = None, \n",
    "                            edge_generator = None, \n",
    "                            vehicle_generator = generator, \n",
    "                            iters = iters,\n",
    "                            gui=False,\n",
    "                            graph=G\n",
    ")"
   ]
  },
  {
   "cell_type": "code",
   "execution_count": 6,
   "metadata": {},
   "outputs": [
    {
     "name": "stderr",
     "output_type": "stream",
     "text": [
      "Running simulations:   0%|          | 0/50 [00:00<?, ?it/s]"
     ]
    },
    {
     "name": "stderr",
     "output_type": "stream",
     "text": [
      "Current simulation progress: 100%|██████████| 1000/1000 [00:56<00:00, 17.68it/s]\n",
      "Current simulation progress: 100%|██████████| 1000/1000 [00:57<00:00, 17.26it/s]\n",
      "Current simulation progress: 100%|██████████| 1000/1000 [00:55<00:00, 17.91it/s]\n",
      "Current simulation progress: 100%|██████████| 1000/1000 [00:46<00:00, 21.39it/s]\n",
      "Current simulation progress: 100%|██████████| 1000/1000 [00:52<00:00, 19.02it/s]\n",
      "Current simulation progress: 100%|██████████| 1000/1000 [00:56<00:00, 17.64it/s]\n",
      "Current simulation progress: 100%|██████████| 1000/1000 [00:55<00:00, 18.18it/s]\n",
      "Current simulation progress: 100%|██████████| 1000/1000 [00:55<00:00, 18.07it/s]\n",
      "Current simulation progress: 100%|██████████| 1000/1000 [00:33<00:00, 30.30it/s]\n",
      "Current simulation progress: 100%|██████████| 1000/1000 [00:11<00:00, 85.14it/s]\n",
      "Current simulation progress: 100%|██████████| 1000/1000 [00:11<00:00, 86.09it/s]\n",
      "Current simulation progress: 100%|██████████| 1000/1000 [00:12<00:00, 80.28it/s]\n",
      "Current simulation progress: 100%|██████████| 1000/1000 [00:12<00:00, 80.96it/s]\n",
      "Current simulation progress: 100%|██████████| 1000/1000 [00:12<00:00, 77.78it/s]\n",
      "Current simulation progress: 100%|██████████| 1000/1000 [00:11<00:00, 85.32it/s]\n",
      "Current simulation progress: 100%|██████████| 1000/1000 [00:11<00:00, 84.47it/s]\n",
      "Current simulation progress: 100%|██████████| 1000/1000 [00:13<00:00, 75.55it/s]\n",
      "Current simulation progress: 100%|██████████| 1000/1000 [00:12<00:00, 80.96it/s]\n",
      "Current simulation progress: 100%|██████████| 1000/1000 [00:12<00:00, 78.86it/s]\n",
      "Current simulation progress: 100%|██████████| 1000/1000 [00:11<00:00, 84.26it/s]\n",
      "Current simulation progress: 100%|██████████| 1000/1000 [00:12<00:00, 79.52it/s]\n",
      "Current simulation progress: 100%|██████████| 1000/1000 [00:12<00:00, 81.37it/s]\n",
      "Current simulation progress: 100%|██████████| 1000/1000 [00:12<00:00, 81.60it/s]\n",
      "Current simulation progress: 100%|██████████| 1000/1000 [00:12<00:00, 77.51it/s]\n",
      "Current simulation progress: 100%|██████████| 1000/1000 [00:11<00:00, 84.69it/s]\n",
      "Current simulation progress: 100%|██████████| 1000/1000 [00:11<00:00, 83.86it/s]\n",
      "Current simulation progress: 100%|██████████| 1000/1000 [00:13<00:00, 76.67it/s]\n",
      "Current simulation progress: 100%|██████████| 1000/1000 [00:14<00:00, 71.24it/s]\n",
      "Current simulation progress: 100%|██████████| 1000/1000 [39:06<00:00,  2.35s/it]\n",
      "Current simulation progress: 100%|██████████| 1000/1000 [00:13<00:00, 74.27it/s]\n",
      "Current simulation progress: 100%|██████████| 1000/1000 [00:13<00:00, 74.96it/s]\n",
      "Current simulation progress: 100%|██████████| 1000/1000 [00:11<00:00, 85.80it/s]\n",
      "Current simulation progress: 100%|██████████| 1000/1000 [00:12<00:00, 77.66it/s]\n",
      "Current simulation progress: 100%|██████████| 1000/1000 [00:12<00:00, 78.33it/s]\n",
      "Current simulation progress: 100%|██████████| 1000/1000 [00:12<00:00, 82.62it/s]\n",
      "Current simulation progress: 100%|██████████| 1000/1000 [00:11<00:00, 83.86it/s]\n",
      "Current simulation progress: 100%|██████████| 1000/1000 [00:11<00:00, 83.89it/s]\n",
      "Current simulation progress: 100%|██████████| 1000/1000 [00:11<00:00, 85.67it/s]\n",
      "Current simulation progress: 100%|██████████| 1000/1000 [00:11<00:00, 87.11it/s]\n",
      "Current simulation progress: 100%|██████████| 1000/1000 [00:11<00:00, 88.30it/s]\n",
      "Current simulation progress: 100%|██████████| 1000/1000 [00:12<00:00, 79.59it/s]\n",
      "Current simulation progress: 100%|██████████| 1000/1000 [00:11<00:00, 85.08it/s]\n",
      "Current simulation progress: 100%|██████████| 1000/1000 [00:19<00:00, 51.68it/s]\n",
      "Current simulation progress: 100%|██████████| 1000/1000 [00:14<00:00, 69.26it/s]\n",
      "Current simulation progress: 100%|██████████| 1000/1000 [00:13<00:00, 76.63it/s]\n",
      "Current simulation progress: 100%|██████████| 1000/1000 [00:11<00:00, 84.76it/s]\n",
      "Current simulation progress: 100%|██████████| 1000/1000 [00:12<00:00, 80.07it/s]\n",
      "Current simulation progress: 100%|██████████| 1000/1000 [00:14<00:00, 67.16it/s]\n",
      "Current simulation progress: 100%|██████████| 1000/1000 [00:15<00:00, 65.54it/s]\n",
      "Current simulation progress: 100%|██████████| 1000/1000 [00:14<00:00, 69.96it/s]\n",
      "Running simulations: 100%|██████████| 50/50 [58:15<00:00, 69.90s/it]\n"
     ]
    }
   ],
   "source": [
    "dijkstra_batch = Batch_proccessing(eco, sum, mean)\n",
    "dijkstra_batch.simulate(simulations)"
   ]
  },
  {
   "cell_type": "markdown",
   "metadata": {},
   "source": [
    "### Modelo aleatorio: Yen K Shortest Paths"
   ]
  },
  {
   "cell_type": "code",
   "execution_count": 7,
   "metadata": {},
   "outputs": [],
   "source": [
    "generator = Custom_vehicle_generator(simm_conn, observables, agents.Yen_vehicle, k = 20)\n",
    "eco = ecosystem.Ecosystem(\n",
    "                            filepath,\n",
    "                            simm_conn, \n",
    "                            node_generator = None, \n",
    "                            edge_generator = None, \n",
    "                            vehicle_generator = generator, \n",
    "                            iters = iters,\n",
    "                            gui=False,\n",
    "                            graph=G\n",
    ")"
   ]
  },
  {
   "cell_type": "code",
   "execution_count": 8,
   "metadata": {},
   "outputs": [
    {
     "name": "stderr",
     "output_type": "stream",
     "text": [
      "Current simulation progress: 100%|██████████| 1000/1000 [00:29<00:00, 33.65it/s]\n",
      "Current simulation progress: 100%|██████████| 1000/1000 [00:28<00:00, 35.29it/s]\n",
      "Current simulation progress: 100%|██████████| 1000/1000 [00:30<00:00, 32.44it/s]\n",
      "Current simulation progress: 100%|██████████| 1000/1000 [00:26<00:00, 37.61it/s]\n",
      "Current simulation progress: 100%|██████████| 1000/1000 [00:27<00:00, 36.92it/s]\n",
      "Current simulation progress: 100%|██████████| 1000/1000 [00:28<00:00, 35.69it/s]\n",
      "Current simulation progress: 100%|██████████| 1000/1000 [00:29<00:00, 33.76it/s]\n",
      "Current simulation progress: 100%|██████████| 1000/1000 [00:28<00:00, 34.63it/s]\n",
      "Current simulation progress: 100%|██████████| 1000/1000 [00:29<00:00, 33.92it/s]\n",
      "Current simulation progress: 100%|██████████| 1000/1000 [00:29<00:00, 33.96it/s]\n",
      "Current simulation progress: 100%|██████████| 1000/1000 [00:29<00:00, 33.71it/s]\n",
      "Current simulation progress: 100%|██████████| 1000/1000 [00:29<00:00, 34.24it/s]\n",
      "Current simulation progress: 100%|██████████| 1000/1000 [00:25<00:00, 39.03it/s]\n",
      "Current simulation progress: 100%|██████████| 1000/1000 [00:28<00:00, 35.53it/s]\n",
      "Current simulation progress: 100%|██████████| 1000/1000 [00:28<00:00, 34.75it/s]\n",
      "Current simulation progress: 100%|██████████| 1000/1000 [00:26<00:00, 37.47it/s]\n",
      "Current simulation progress: 100%|██████████| 1000/1000 [00:28<00:00, 34.99it/s]\n",
      "Current simulation progress: 100%|██████████| 1000/1000 [00:26<00:00, 37.92it/s]\n",
      "Current simulation progress: 100%|██████████| 1000/1000 [00:29<00:00, 34.37it/s]\n",
      "Current simulation progress: 100%|██████████| 1000/1000 [00:27<00:00, 35.93it/s]\n",
      "Current simulation progress: 100%|██████████| 1000/1000 [00:26<00:00, 37.20it/s]\n",
      "Current simulation progress: 100%|██████████| 1000/1000 [00:27<00:00, 36.17it/s]\n",
      "Current simulation progress: 100%|██████████| 1000/1000 [00:28<00:00, 34.54it/s]\n",
      "Current simulation progress: 100%|██████████| 1000/1000 [00:26<00:00, 37.64it/s]\n",
      "Current simulation progress: 100%|██████████| 1000/1000 [00:31<00:00, 31.49it/s]\n",
      "Current simulation progress: 100%|██████████| 1000/1000 [00:27<00:00, 36.27it/s]\n",
      "Current simulation progress: 100%|██████████| 1000/1000 [00:25<00:00, 38.70it/s]\n",
      "Current simulation progress: 100%|██████████| 1000/1000 [00:27<00:00, 35.76it/s]\n",
      "Current simulation progress: 100%|██████████| 1000/1000 [00:30<00:00, 33.00it/s]\n",
      "Current simulation progress: 100%|██████████| 1000/1000 [00:31<00:00, 32.10it/s]\n",
      "Current simulation progress: 100%|██████████| 1000/1000 [00:27<00:00, 35.81it/s]\n",
      "Current simulation progress: 100%|██████████| 1000/1000 [00:26<00:00, 37.98it/s]\n",
      "Current simulation progress: 100%|██████████| 1000/1000 [00:29<00:00, 33.77it/s]\n",
      "Current simulation progress: 100%|██████████| 1000/1000 [00:29<00:00, 33.87it/s]\n",
      "Current simulation progress: 100%|██████████| 1000/1000 [00:29<00:00, 33.68it/s]\n",
      "Current simulation progress: 100%|██████████| 1000/1000 [00:21<00:00, 46.58it/s]\n",
      "Current simulation progress: 100%|██████████| 1000/1000 [00:25<00:00, 38.70it/s]\n",
      "Current simulation progress: 100%|██████████| 1000/1000 [00:24<00:00, 40.69it/s]\n",
      "Current simulation progress: 100%|██████████| 1000/1000 [00:31<00:00, 32.13it/s]\n",
      "Current simulation progress: 100%|██████████| 1000/1000 [00:27<00:00, 36.59it/s]\n",
      "Current simulation progress: 100%|██████████| 1000/1000 [00:28<00:00, 35.09it/s]\n",
      "Current simulation progress: 100%|██████████| 1000/1000 [00:26<00:00, 38.36it/s]\n",
      "Current simulation progress: 100%|██████████| 1000/1000 [00:26<00:00, 38.25it/s]\n",
      "Current simulation progress: 100%|██████████| 1000/1000 [00:24<00:00, 40.41it/s]\n",
      "Current simulation progress: 100%|██████████| 1000/1000 [11:41<00:00,  1.42it/s]\n",
      "Current simulation progress: 100%|██████████| 1000/1000 [00:29<00:00, 33.66it/s]\n",
      "Current simulation progress: 100%|██████████| 1000/1000 [00:28<00:00, 35.42it/s]\n",
      "Current simulation progress: 100%|██████████| 1000/1000 [00:29<00:00, 34.24it/s]\n",
      "Current simulation progress: 100%|██████████| 1000/1000 [00:28<00:00, 35.46it/s]\n",
      "Current simulation progress: 100%|██████████| 1000/1000 [00:27<00:00, 36.89it/s]\n",
      "Running simulations: 100%|██████████| 50/50 [35:11<00:00, 42.23s/it]\n"
     ]
    }
   ],
   "source": [
    "yen_batch = Batch_proccessing(eco, sum, mean)\n",
    "yen_batch.simulate(simulations)"
   ]
  },
  {
   "cell_type": "markdown",
   "metadata": {},
   "source": [
    "### Modelo inteligente: IACO"
   ]
  },
  {
   "cell_type": "code",
   "execution_count": 9,
   "metadata": {},
   "outputs": [],
   "source": [
    "generator = Custom_vehicle_generator(simm_conn, observables, iaco.Inverted_ant, deposit_rate = 0.5) \n",
    "# generator = generators.Random_vehicle_generator(simm_conn, 0.01, 5,5, observables=observables, vehicle_class = iaco.Inverted_ant, deposit_rate = 0.5) \n",
    "edge_generator = generators.Edge_generator(simm_conn, edge_class = iaco.Inverted_road, evaporation_rate=0.5)\n",
    "    \n",
    "eco = ecosystem.Ecosystem(\n",
    "                            filepath,\n",
    "                            simm_conn, \n",
    "                            node_generator = None, \n",
    "                            edge_generator = edge_generator, \n",
    "                            vehicle_generator = generator, \n",
    "                            iters = iters,\n",
    "                            gui=False,\n",
    "                            graph=G\n",
    ")"
   ]
  },
  {
   "cell_type": "code",
   "execution_count": 10,
   "metadata": {},
   "outputs": [
    {
     "name": "stderr",
     "output_type": "stream",
     "text": [
      "Current simulation progress: 100%|██████████| 1000/1000 [00:17<00:00, 56.56it/s]\n",
      "Current simulation progress: 100%|██████████| 1000/1000 [00:18<00:00, 54.50it/s]\n",
      "Current simulation progress: 100%|██████████| 1000/1000 [00:13<00:00, 74.43it/s]\n",
      "Current simulation progress: 100%|██████████| 1000/1000 [00:10<00:00, 91.22it/s]\n",
      "Current simulation progress: 100%|██████████| 1000/1000 [00:10<00:00, 96.62it/s]\n",
      "Current simulation progress: 100%|██████████| 1000/1000 [00:11<00:00, 85.00it/s]\n",
      "Current simulation progress: 100%|██████████| 1000/1000 [00:12<00:00, 81.30it/s]\n",
      "Current simulation progress: 100%|██████████| 1000/1000 [00:11<00:00, 85.72it/s]\n",
      "Current simulation progress: 100%|██████████| 1000/1000 [00:14<00:00, 71.26it/s]\n",
      "Current simulation progress: 100%|██████████| 1000/1000 [00:11<00:00, 86.21it/s]\n",
      "Current simulation progress: 100%|██████████| 1000/1000 [00:10<00:00, 91.90it/s]\n",
      "Current simulation progress: 100%|██████████| 1000/1000 [00:13<00:00, 74.26it/s]\n",
      "Current simulation progress: 100%|██████████| 1000/1000 [00:17<00:00, 56.62it/s]\n",
      "Current simulation progress: 100%|██████████| 1000/1000 [00:14<00:00, 69.02it/s]\n",
      "Current simulation progress: 100%|██████████| 1000/1000 [00:16<00:00, 61.50it/s]\n",
      "Current simulation progress: 100%|██████████| 1000/1000 [00:13<00:00, 74.44it/s]\n",
      "Current simulation progress: 100%|██████████| 1000/1000 [00:16<00:00, 60.49it/s]\n",
      "Current simulation progress: 100%|██████████| 1000/1000 [00:14<00:00, 68.98it/s]\n",
      "Current simulation progress: 100%|██████████| 1000/1000 [00:12<00:00, 77.65it/s]\n",
      "Current simulation progress: 100%|██████████| 1000/1000 [00:12<00:00, 78.86it/s]\n",
      "Current simulation progress: 100%|██████████| 1000/1000 [00:13<00:00, 74.92it/s]\n",
      "Current simulation progress: 100%|██████████| 1000/1000 [00:15<00:00, 65.60it/s]\n",
      "Current simulation progress: 100%|██████████| 1000/1000 [00:17<00:00, 56.17it/s]\n",
      "Current simulation progress: 100%|██████████| 1000/1000 [00:09<00:00, 102.96it/s]\n",
      "Current simulation progress: 100%|██████████| 1000/1000 [00:11<00:00, 85.84it/s]\n",
      "Current simulation progress: 100%|██████████| 1000/1000 [00:13<00:00, 73.62it/s]\n",
      "Current simulation progress: 100%|██████████| 1000/1000 [00:11<00:00, 84.15it/s]\n",
      "Current simulation progress: 100%|██████████| 1000/1000 [00:12<00:00, 80.98it/s]\n",
      "Current simulation progress: 100%|██████████| 1000/1000 [00:16<00:00, 61.04it/s]\n",
      "Current simulation progress: 100%|██████████| 1000/1000 [00:12<00:00, 80.53it/s]\n",
      "Current simulation progress: 100%|██████████| 1000/1000 [00:11<00:00, 90.64it/s]\n",
      "Current simulation progress: 100%|██████████| 1000/1000 [00:13<00:00, 73.20it/s]\n",
      "Current simulation progress: 100%|██████████| 1000/1000 [00:11<00:00, 83.57it/s]\n",
      "Current simulation progress: 100%|██████████| 1000/1000 [00:11<00:00, 83.68it/s]\n",
      "Current simulation progress: 100%|██████████| 1000/1000 [00:10<00:00, 98.54it/s]\n",
      "Current simulation progress: 100%|██████████| 1000/1000 [00:11<00:00, 86.43it/s]\n",
      "Current simulation progress: 100%|██████████| 1000/1000 [00:12<00:00, 80.76it/s]\n",
      "Current simulation progress: 100%|██████████| 1000/1000 [00:13<00:00, 73.46it/s]\n",
      "Current simulation progress: 100%|██████████| 1000/1000 [00:12<00:00, 79.37it/s]\n",
      "Current simulation progress: 100%|██████████| 1000/1000 [00:12<00:00, 78.13it/s]\n",
      "Current simulation progress: 100%|██████████| 1000/1000 [00:13<00:00, 73.35it/s]\n",
      "Current simulation progress: 100%|██████████| 1000/1000 [00:15<00:00, 65.15it/s]\n",
      "Current simulation progress: 100%|██████████| 1000/1000 [00:10<00:00, 90.93it/s]\n",
      "Current simulation progress: 100%|██████████| 1000/1000 [00:10<00:00, 91.85it/s]\n",
      "Current simulation progress: 100%|██████████| 1000/1000 [00:13<00:00, 71.54it/s]\n",
      "Current simulation progress: 100%|██████████| 1000/1000 [00:13<00:00, 75.95it/s]\n",
      "Current simulation progress: 100%|██████████| 1000/1000 [00:14<00:00, 69.93it/s]\n",
      "Current simulation progress: 100%|██████████| 1000/1000 [00:10<00:00, 93.16it/s]\n",
      "Current simulation progress: 100%|██████████| 1000/1000 [00:12<00:00, 80.46it/s]\n",
      "Current simulation progress: 100%|██████████| 1000/1000 [00:12<00:00, 82.65it/s]\n",
      "Running simulations: 100%|██████████| 50/50 [11:29<00:00, 13.78s/it]\n"
     ]
    }
   ],
   "source": [
    "iaco_batch = Batch_proccessing(eco, sum, mean)\n",
    "iaco_batch.simulate(simulations)"
   ]
  },
  {
   "cell_type": "markdown",
   "metadata": {},
   "source": [
    "### Modelo inteligente: IPR"
   ]
  },
  {
   "cell_type": "code",
   "execution_count": 11,
   "metadata": {},
   "outputs": [],
   "source": [
    "generator = Custom_vehicle_generator(simm_conn, observables, ipr.Inverted_ant, deposit_rate = 0.5) \n",
    "edge_generator = generators.Edge_generator(simm_conn, edge_class = ipr.Inverted_road, evaporation_rate=0.5)\n",
    "    \n",
    "eco = ecosystem.Ecosystem(\n",
    "                            filepath,\n",
    "                            simm_conn, \n",
    "                            node_generator = None, \n",
    "                            edge_generator = edge_generator, \n",
    "                            vehicle_generator = generator, \n",
    "                            iters = iters,\n",
    "                            gui=False,\n",
    "                            graph=G\n",
    ")"
   ]
  },
  {
   "cell_type": "code",
   "execution_count": 12,
   "metadata": {},
   "outputs": [
    {
     "name": "stderr",
     "output_type": "stream",
     "text": [
      "Current simulation progress: 100%|██████████| 1000/1000 [00:27<00:00, 36.04it/s]\n",
      "Current simulation progress: 100%|██████████| 1000/1000 [00:30<00:00, 32.61it/s]\n",
      "Current simulation progress: 100%|██████████| 1000/1000 [00:28<00:00, 35.19it/s]\n",
      "Current simulation progress: 100%|██████████| 1000/1000 [00:33<00:00, 29.66it/s]\n",
      "Current simulation progress: 100%|██████████| 1000/1000 [00:27<00:00, 36.07it/s]\n",
      "Current simulation progress: 100%|██████████| 1000/1000 [00:26<00:00, 37.22it/s]\n",
      "Current simulation progress: 100%|██████████| 1000/1000 [00:29<00:00, 33.94it/s]\n",
      "Current simulation progress: 100%|██████████| 1000/1000 [00:35<00:00, 27.88it/s]\n",
      "Current simulation progress: 100%|██████████| 1000/1000 [00:34<00:00, 29.14it/s]\n",
      "Current simulation progress: 100%|██████████| 1000/1000 [00:31<00:00, 31.86it/s]\n",
      "Current simulation progress: 100%|██████████| 1000/1000 [00:30<00:00, 32.32it/s]\n",
      "Current simulation progress: 100%|██████████| 1000/1000 [00:36<00:00, 27.37it/s]\n",
      "Current simulation progress: 100%|██████████| 1000/1000 [00:32<00:00, 30.35it/s]\n",
      "Current simulation progress: 100%|██████████| 1000/1000 [00:29<00:00, 34.25it/s]\n",
      "Current simulation progress: 100%|██████████| 1000/1000 [00:31<00:00, 31.78it/s]\n",
      "Current simulation progress: 100%|██████████| 1000/1000 [00:26<00:00, 37.44it/s]\n",
      "Current simulation progress: 100%|██████████| 1000/1000 [00:32<00:00, 30.60it/s]\n",
      "Current simulation progress: 100%|██████████| 1000/1000 [00:29<00:00, 34.24it/s]\n",
      "Current simulation progress: 100%|██████████| 1000/1000 [00:32<00:00, 30.72it/s]\n",
      "Current simulation progress: 100%|██████████| 1000/1000 [00:29<00:00, 33.70it/s]\n",
      "Current simulation progress: 100%|██████████| 1000/1000 [00:30<00:00, 32.42it/s]\n",
      "Current simulation progress: 100%|██████████| 1000/1000 [00:25<00:00, 39.84it/s]\n",
      "Current simulation progress: 100%|██████████| 1000/1000 [00:29<00:00, 33.69it/s]\n",
      "Current simulation progress: 100%|██████████| 1000/1000 [00:28<00:00, 34.95it/s]\n",
      "Current simulation progress: 100%|██████████| 1000/1000 [00:32<00:00, 31.19it/s]\n",
      "Current simulation progress: 100%|██████████| 1000/1000 [00:31<00:00, 31.33it/s]\n",
      "Current simulation progress: 100%|██████████| 1000/1000 [00:28<00:00, 35.59it/s]\n",
      "Current simulation progress: 100%|██████████| 1000/1000 [00:28<00:00, 34.86it/s]\n",
      "Current simulation progress: 100%|██████████| 1000/1000 [00:29<00:00, 33.43it/s]\n",
      "Current simulation progress: 100%|██████████| 1000/1000 [00:26<00:00, 38.12it/s]\n",
      "Current simulation progress: 100%|██████████| 1000/1000 [00:27<00:00, 36.34it/s]\n",
      "Current simulation progress: 100%|██████████| 1000/1000 [00:27<00:00, 36.17it/s]\n",
      "Current simulation progress: 100%|██████████| 1000/1000 [00:32<00:00, 30.93it/s]\n",
      "Current simulation progress: 100%|██████████| 1000/1000 [00:33<00:00, 29.91it/s]\n",
      "Current simulation progress: 100%|██████████| 1000/1000 [00:29<00:00, 33.67it/s]\n",
      "Current simulation progress: 100%|██████████| 1000/1000 [00:26<00:00, 38.29it/s]\n",
      "Current simulation progress: 100%|██████████| 1000/1000 [00:33<00:00, 30.06it/s]\n",
      "Current simulation progress: 100%|██████████| 1000/1000 [00:25<00:00, 38.76it/s]\n",
      "Current simulation progress: 100%|██████████| 1000/1000 [00:30<00:00, 32.68it/s]\n",
      "Current simulation progress: 100%|██████████| 1000/1000 [00:31<00:00, 31.88it/s]\n",
      "Current simulation progress: 100%|██████████| 1000/1000 [00:33<00:00, 30.21it/s]\n",
      "Current simulation progress: 100%|██████████| 1000/1000 [00:26<00:00, 37.64it/s]\n",
      "Current simulation progress: 100%|██████████| 1000/1000 [00:28<00:00, 34.66it/s]\n",
      "Current simulation progress: 100%|██████████| 1000/1000 [00:33<00:00, 29.59it/s]\n",
      "Current simulation progress: 100%|██████████| 1000/1000 [00:29<00:00, 34.31it/s]\n",
      "Current simulation progress: 100%|██████████| 1000/1000 [00:28<00:00, 35.09it/s]\n",
      "Current simulation progress: 100%|██████████| 1000/1000 [00:28<00:00, 35.39it/s]\n",
      "Current simulation progress: 100%|██████████| 1000/1000 [00:23<00:00, 42.17it/s]\n",
      "Current simulation progress: 100%|██████████| 1000/1000 [00:28<00:00, 34.82it/s]\n",
      "Current simulation progress: 100%|██████████| 1000/1000 [00:23<00:00, 41.83it/s]\n",
      "Running simulations: 100%|██████████| 50/50 [25:23<00:00, 30.46s/it]\n"
     ]
    }
   ],
   "source": [
    "ipr_batch = Batch_proccessing(eco, sum, mean)\n",
    "ipr_batch.simulate(simulations)"
   ]
  },
  {
   "cell_type": "markdown",
   "metadata": {},
   "source": [
    "### Modelo inteligente: SIACO"
   ]
  },
  {
   "cell_type": "code",
   "execution_count": 13,
   "metadata": {},
   "outputs": [],
   "source": [
    "generator = Custom_vehicle_generator(simm_conn, observables, siaco.Sonic_ant) \n",
    "# generator = generators.Random_vehicle_generator(simm_conn, 0.01, 5,5, observables=observables, vehicle_class = siaco.Sonic_ant) \n",
    "edge_generator = siaco.Sonic_edge_generator(simm_conn, \n",
    "                                            k = 0.189529,\n",
    "                                            epsilon=0.237015,\n",
    "                                            max_length=2500)\n",
    "\n",
    "node_generator = siaco.Sonic_junction_generator(simm_conn, node_class=siaco.Sonic_junction)\n",
    "eco = ecosystem.Ecosystem(\n",
    "                                 filepath,\n",
    "                                 simm_conn, \n",
    "                                 node_generator = node_generator, \n",
    "                                 edge_generator = edge_generator, \n",
    "                                 vehicle_generator = generator, \n",
    "                                 iters = iters,\n",
    "                                 gui=False,\n",
    "                                 graph=G\n",
    "    )"
   ]
  },
  {
   "cell_type": "code",
   "execution_count": 14,
   "metadata": {},
   "outputs": [
    {
     "name": "stderr",
     "output_type": "stream",
     "text": [
      "Running simulations:   0%|          | 0/50 [00:00<?, ?it/s]c:\\Users\\colla\\Documents\\GitHub\\AITrafficLab\\src\\siaco.py:180: RuntimeWarning: invalid value encountered in scalar divide\n",
      "  pheromone /= self.total_travels\n",
      "Current simulation progress: 100%|██████████| 1000/1000 [00:31<00:00, 31.42it/s]\n",
      "Current simulation progress: 100%|██████████| 1000/1000 [00:30<00:00, 33.17it/s]\n",
      "Current simulation progress: 100%|██████████| 1000/1000 [00:24<00:00, 40.31it/s]\n",
      "Current simulation progress: 100%|██████████| 1000/1000 [00:29<00:00, 34.13it/s]\n",
      "Current simulation progress: 100%|██████████| 1000/1000 [00:29<00:00, 33.77it/s]\n",
      "Current simulation progress: 100%|██████████| 1000/1000 [00:30<00:00, 33.17it/s]\n",
      "Current simulation progress: 100%|██████████| 1000/1000 [00:28<00:00, 34.86it/s]\n",
      "Current simulation progress: 100%|██████████| 1000/1000 [00:30<00:00, 33.04it/s]\n",
      "Current simulation progress: 100%|██████████| 1000/1000 [00:28<00:00, 35.70it/s]\n",
      "Current simulation progress: 100%|██████████| 1000/1000 [00:34<00:00, 28.85it/s]\n",
      "Current simulation progress: 100%|██████████| 1000/1000 [00:33<00:00, 30.00it/s]\n",
      "Current simulation progress: 100%|██████████| 1000/1000 [00:26<00:00, 37.38it/s]\n",
      "Current simulation progress: 100%|██████████| 1000/1000 [00:26<00:00, 37.31it/s]\n",
      "Current simulation progress: 100%|██████████| 1000/1000 [00:31<00:00, 31.26it/s]\n",
      "Current simulation progress: 100%|██████████| 1000/1000 [00:27<00:00, 35.89it/s]\n",
      "Current simulation progress: 100%|██████████| 1000/1000 [00:32<00:00, 30.74it/s]\n",
      "Current simulation progress: 100%|██████████| 1000/1000 [00:29<00:00, 34.30it/s]\n",
      "Current simulation progress: 100%|██████████| 1000/1000 [00:32<00:00, 30.40it/s]\n",
      "Current simulation progress: 100%|██████████| 1000/1000 [00:31<00:00, 31.51it/s]\n",
      "Current simulation progress: 100%|██████████| 1000/1000 [00:35<00:00, 28.29it/s]\n",
      "Current simulation progress: 100%|██████████| 1000/1000 [00:28<00:00, 35.09it/s]\n",
      "Current simulation progress: 100%|██████████| 1000/1000 [00:31<00:00, 32.22it/s]\n",
      "Current simulation progress: 100%|██████████| 1000/1000 [00:29<00:00, 33.51it/s]\n",
      "Current simulation progress: 100%|██████████| 1000/1000 [00:30<00:00, 32.52it/s]\n",
      "Current simulation progress: 100%|██████████| 1000/1000 [00:33<00:00, 29.76it/s]\n",
      "Current simulation progress: 100%|██████████| 1000/1000 [00:32<00:00, 30.74it/s]\n",
      "Current simulation progress: 100%|██████████| 1000/1000 [00:34<00:00, 28.80it/s]\n",
      "Current simulation progress: 100%|██████████| 1000/1000 [00:36<00:00, 27.03it/s]\n",
      "Current simulation progress: 100%|██████████| 1000/1000 [00:34<00:00, 29.11it/s]\n",
      "Current simulation progress: 100%|██████████| 1000/1000 [00:29<00:00, 34.46it/s]\n",
      "Current simulation progress: 100%|██████████| 1000/1000 [00:31<00:00, 32.09it/s]\n",
      "Current simulation progress: 100%|██████████| 1000/1000 [00:41<00:00, 24.08it/s]\n",
      "Current simulation progress: 100%|██████████| 1000/1000 [00:37<00:00, 26.56it/s]\n",
      "Current simulation progress: 100%|██████████| 1000/1000 [00:29<00:00, 33.79it/s]\n",
      "Current simulation progress: 100%|██████████| 1000/1000 [00:35<00:00, 27.80it/s]\n",
      "Current simulation progress: 100%|██████████| 1000/1000 [53:27<00:00,  3.21s/it]\n",
      "Current simulation progress: 100%|██████████| 1000/1000 [00:40<00:00, 24.95it/s]\n",
      "Current simulation progress: 100%|██████████| 1000/1000 [00:41<00:00, 24.00it/s]\n",
      "Current simulation progress: 100%|██████████| 1000/1000 [00:33<00:00, 30.12it/s]\n",
      "Current simulation progress: 100%|██████████| 1000/1000 [00:38<00:00, 26.13it/s]\n",
      "Current simulation progress: 100%|██████████| 1000/1000 [00:34<00:00, 29.06it/s]\n",
      "Current simulation progress: 100%|██████████| 1000/1000 [00:33<00:00, 29.65it/s]\n",
      "Current simulation progress: 100%|██████████| 1000/1000 [00:31<00:00, 31.32it/s]\n",
      "Current simulation progress: 100%|██████████| 1000/1000 [00:42<00:00, 23.28it/s]\n",
      "Current simulation progress: 100%|██████████| 1000/1000 [00:36<00:00, 27.32it/s]\n",
      "Current simulation progress: 100%|██████████| 1000/1000 [00:28<00:00, 35.02it/s]\n",
      "Current simulation progress: 100%|██████████| 1000/1000 [00:33<00:00, 29.92it/s]\n",
      "Current simulation progress: 100%|██████████| 1000/1000 [00:29<00:00, 34.30it/s]\n",
      "Current simulation progress: 100%|██████████| 1000/1000 [00:29<00:00, 34.45it/s]\n",
      "Current simulation progress: 100%|██████████| 1000/1000 [00:31<00:00, 31.38it/s]\n",
      "Running simulations: 100%|██████████| 50/50 [1:20:25<00:00, 96.52s/it]\n"
     ]
    }
   ],
   "source": [
    "siaco_batch = Batch_proccessing(eco, sum, mean)\n",
    "siaco_batch.simulate(simulations)"
   ]
  },
  {
   "cell_type": "code",
   "execution_count": 15,
   "metadata": {},
   "outputs": [],
   "source": [
    "# import pickle\n",
    "# data = {\n",
    "#     \"Dijkstra\":dijkstra_batch,\n",
    "#     \"Yen K\":yen_batch,\n",
    "#     \"IACO\":iaco_batch,\n",
    "#     \"IPR\":ipr_batch,\n",
    "#     \"SIACO\":siaco_batch\n",
    "# }\n",
    "\n",
    "# with open('data.pkl', 'wb') as file:\n",
    "#     pickle.dump(data, file)"
   ]
  },
  {
   "cell_type": "code",
   "execution_count": 16,
   "metadata": {},
   "outputs": [],
   "source": [
    "import json\n",
    "tiempos = {\n",
    "    \"Dijkstra\":dijkstra_batch.veh_global_stats[\"time\"],\n",
    "    \"Yen K\":yen_batch.veh_global_stats[\"time\"],\n",
    "    \"IACO\":iaco_batch.veh_global_stats[\"time\"],\n",
    "    \"IPR\":ipr_batch.veh_global_stats[\"time\"],\n",
    "    \"SIACO\":siaco_batch.veh_global_stats[\"time\"]\n",
    "}\n",
    "\n",
    "with open(\"cuadricula_data.json\", 'w') as archivo:\n",
    "    json.dump(tiempos, archivo, indent=4)"
   ]
  },
  {
   "cell_type": "code",
   "execution_count": 4,
   "metadata": {},
   "outputs": [],
   "source": [
    "import json\n",
    "with open(\"cuadricula_data.json\", 'r') as archivo:\n",
    "    tiempos = json.load(archivo)"
   ]
  },
  {
   "cell_type": "markdown",
   "metadata": {},
   "source": [
    "# Contrastes estadísticos"
   ]
  },
  {
   "cell_type": "code",
   "execution_count": null,
   "metadata": {},
   "outputs": [],
   "source": []
  },
  {
   "cell_type": "markdown",
   "metadata": {},
   "source": [
    "## Contrastes de normalidad"
   ]
  },
  {
   "cell_type": "code",
   "execution_count": 17,
   "metadata": {},
   "outputs": [
    {
     "name": "stdout",
     "output_type": "stream",
     "text": [
      "Dijkstra\n",
      "AndersonResult(statistic=1.1739024775169398, critical_values=array([0.538, 0.613, 0.736, 0.858, 1.021]), significance_level=array([15. , 10. ,  5. ,  2.5,  1. ]), fit_result=  params: FitParams(loc=233.06891308172726, scale=10.240290292307897)\n",
      " success: True\n",
      " message: '`anderson` successfully fit the distribution to the data.')\n",
      "\tEstadístico = 1.174\n",
      "\tProbablemente no Gaussiana a un nivel de significación del 15.00%\n",
      "\tProbablemente no Gaussiana a un nivel de significación del 10.00%\n",
      "\tProbablemente no Gaussiana a un nivel de significación del 5.00%\n",
      "\tProbablemente no Gaussiana a un nivel de significación del 2.50%\n",
      "\tProbablemente no Gaussiana a un nivel de significación del 1.00%\n",
      "Yen K\n",
      "AndersonResult(statistic=0.8133536793661733, critical_values=array([0.538, 0.613, 0.736, 0.858, 1.021]), significance_level=array([15. , 10. ,  5. ,  2.5,  1. ]), fit_result=  params: FitParams(loc=161.0178140124611, scale=18.506903115981125)\n",
      " success: True\n",
      " message: '`anderson` successfully fit the distribution to the data.')\n",
      "\tEstadístico = 0.813\n",
      "\tProbablemente no Gaussiana a un nivel de significación del 15.00%\n",
      "\tProbablemente no Gaussiana a un nivel de significación del 10.00%\n",
      "\tProbablemente no Gaussiana a un nivel de significación del 5.00%\n",
      "\tProbablemente Gaussiana a un nivel de significación del 2.50%\n",
      "\tProbablemente Gaussiana a un nivel de significación del 1.00%\n",
      "IACO\n",
      "AndersonResult(statistic=4.649455305262222, critical_values=array([0.538, 0.613, 0.736, 0.858, 1.021]), significance_level=array([15. , 10. ,  5. ,  2.5,  1. ]), fit_result=  params: FitParams(loc=108.26161470740539, scale=17.604130359710084)\n",
      " success: True\n",
      " message: '`anderson` successfully fit the distribution to the data.')\n",
      "\tEstadístico = 4.649\n",
      "\tProbablemente no Gaussiana a un nivel de significación del 15.00%\n",
      "\tProbablemente no Gaussiana a un nivel de significación del 10.00%\n",
      "\tProbablemente no Gaussiana a un nivel de significación del 5.00%\n",
      "\tProbablemente no Gaussiana a un nivel de significación del 2.50%\n",
      "\tProbablemente no Gaussiana a un nivel de significación del 1.00%\n",
      "IPR\n",
      "AndersonResult(statistic=0.6501527739611817, critical_values=array([0.538, 0.613, 0.736, 0.858, 1.021]), significance_level=array([15. , 10. ,  5. ,  2.5,  1. ]), fit_result=  params: FitParams(loc=134.17282649267784, scale=13.42594504618849)\n",
      " success: True\n",
      " message: '`anderson` successfully fit the distribution to the data.')\n",
      "\tEstadístico = 0.650\n",
      "\tProbablemente no Gaussiana a un nivel de significación del 15.00%\n",
      "\tProbablemente no Gaussiana a un nivel de significación del 10.00%\n",
      "\tProbablemente Gaussiana a un nivel de significación del 5.00%\n",
      "\tProbablemente Gaussiana a un nivel de significación del 2.50%\n",
      "\tProbablemente Gaussiana a un nivel de significación del 1.00%\n",
      "SIACO\n",
      "AndersonResult(statistic=1.0120804387045297, critical_values=array([0.538, 0.613, 0.736, 0.858, 1.021]), significance_level=array([15. , 10. ,  5. ,  2.5,  1. ]), fit_result=  params: FitParams(loc=114.77082112453179, scale=12.511248211055628)\n",
      " success: True\n",
      " message: '`anderson` successfully fit the distribution to the data.')\n",
      "\tEstadístico = 1.012\n",
      "\tProbablemente no Gaussiana a un nivel de significación del 15.00%\n",
      "\tProbablemente no Gaussiana a un nivel de significación del 10.00%\n",
      "\tProbablemente no Gaussiana a un nivel de significación del 5.00%\n",
      "\tProbablemente no Gaussiana a un nivel de significación del 2.50%\n",
      "\tProbablemente Gaussiana a un nivel de significación del 1.00%\n"
     ]
    }
   ],
   "source": [
    "from scipy.stats import anderson\n",
    "for model in tiempos:\n",
    "  print(model)\n",
    "  tiempo = tiempos[model]\n",
    "  result = anderson(tiempo)\n",
    "  print(result) \n",
    "  print(\"\\tEstadístico = %.3f\" % (result.statistic))\n",
    "  for i in range(len(result.critical_values)):\n",
    "    sl, cv = result.significance_level[i], result.critical_values[i]\n",
    "    if result.statistic < cv:\n",
    "      print(\"\\tProbablemente Gaussiana a un nivel de significación del %.2f%%\"% (sl))\n",
    "    else:\n",
    "      print(\"\\tProbablemente no Gaussiana a un nivel de significación del %.2f%%\" % (sl))"
   ]
  },
  {
   "cell_type": "code",
   "execution_count": 18,
   "metadata": {},
   "outputs": [
    {
     "name": "stdout",
     "output_type": "stream",
     "text": [
      "Dijkstra\n",
      "\tEstadistico = 14.425, p-valor= 0.001\n",
      "\tEstos datos no parecen proceder de una Gaussiana\n",
      "Yen K\n",
      "\tEstadistico = 4.989, p-valor= 0.083\n",
      "\tEs probablemente una muestra procedente de una Gaussiana\n",
      "IACO\n",
      "\tEstadistico = 84.189, p-valor= 0.000\n",
      "\tEstos datos no parecen proceder de una Gaussiana\n",
      "IPR\n",
      "\tEstadistico = 1.271, p-valor= 0.530\n",
      "\tEs probablemente una muestra procedente de una Gaussiana\n",
      "SIACO\n",
      "\tEstadistico = 10.971, p-valor= 0.004\n",
      "\tEstos datos no parecen proceder de una Gaussiana\n"
     ]
    }
   ],
   "source": [
    "from scipy.stats import normaltest\n",
    "for model in tiempos:\n",
    "  print(model)\n",
    "  tiempo = tiempos[model]\n",
    "  stat, pv = normaltest(tiempo)\n",
    "  print(\"\\tEstadistico = %.3f, p-valor= %.3f\" % (stat, pv))\n",
    "  if pv > 0.05: \n",
    "    print(\"\\tEs probablemente una muestra procedente de una Gaussiana\")\n",
    "  else:\n",
    "    print(\"\\tEstos datos no parecen proceder de una Gaussiana\")"
   ]
  },
  {
   "cell_type": "markdown",
   "metadata": {},
   "source": [
    "## Contrastes diferencia de medias"
   ]
  },
  {
   "cell_type": "code",
   "execution_count": 138,
   "metadata": {},
   "outputs": [
    {
     "name": "stdout",
     "output_type": "stream",
     "text": [
      "SIACO vs IACO\n",
      "True\n"
     ]
    }
   ],
   "source": [
    "# print(\"SIACO vs Dijkstra\")\n",
    "# pv = sm.stats.ztest(data[\"SIACO\"].veh_global_stats[\"time\"], data[\"Dijkstra\"].veh_global_stats[\"time\"], alternative=\"smaller\")[1]\n",
    "# print(pv<0.05)\n",
    "# print(\"SIACO vs Yen K\")\n",
    "# pv = sm.stats.ztest(data[\"SIACO\"].veh_global_stats[\"time\"], data[\"Yen K\"].veh_global_stats[\"time\"], alternative=\"smaller\")[1]\n",
    "# print(pv<0.05)\n",
    "print(\"SIACO vs IACO\")\n",
    "pv = sm.stats.ztest(tiempos[\"SIACO\"], tiempos[\"IACO\"], alternative=\"larger\")[1]\n",
    "print(pv<0.05)\n",
    "# print(\"SIACO vs IPR\")\n",
    "# pv =sm.stats.ztest(data[\"SIACO\"].veh_global_stats[\"time\"], data[\"IPR\"].veh_global_stats[\"time\"], alternative=\"smaller\")[1]\n",
    "# print(pv<0.05)\n",
    "# pv =sm.stats.ztest(data[\"SIACO\"].veh_global_stats[\"time\"], data[\"IPR\"].veh_global_stats[\"time\"], alternative=\"larger\")[1]\n",
    "# print(pv<0.05)"
   ]
  },
  {
   "cell_type": "code",
   "execution_count": 135,
   "metadata": {},
   "outputs": [
    {
     "name": "stdout",
     "output_type": "stream",
     "text": [
      "SIACO vs Dijkstra\n",
      "0.0 3.533035965194466e-18\n",
      "True\n",
      "SIACO vs Yen K\n",
      "78.0 3.3432788431367966e-16\n",
      "True\n",
      "SIACO vs IACO\n",
      "1763.0 0.00020537199244604785\n",
      "True\n",
      "SIACO vs IPR\n",
      "335.0 1.4465783084843176e-10\n",
      "True\n",
      "False\n"
     ]
    }
   ],
   "source": [
    "from scipy.stats import mannwhitneyu\n",
    "print(\"SIACO vs Dijkstra\")\n",
    "stat, pv = mannwhitneyu(tiempos[\"SIACO\"], tiempos[\"Dijkstra\"], alternative=\"less\")\n",
    "print(stat, pv)\n",
    "print(pv<0.05)\n",
    "print(\"SIACO vs Yen K\")\n",
    "stat, pv = mannwhitneyu(tiempos[\"SIACO\"], tiempos[\"Yen K\"], alternative=\"less\")\n",
    "print(stat, pv)\n",
    "print(pv<0.05)\n",
    "print(\"SIACO vs IACO\")\n",
    "stat, pv = mannwhitneyu(tiempos[\"SIACO\"], tiempos[\"IACO\"], alternative=\"greater\")\n",
    "# stat, pv = mannwhitneyu(bootstrap_means_siaco, bootstrap_means_iaco, alternative=\"greater\")\n",
    "print(stat, pv)\n",
    "print(pv<0.01)\n",
    "print(\"SIACO vs IPR\")\n",
    "stat, pv = mannwhitneyu(tiempos[\"SIACO\"], tiempos[\"IPR\"], alternative=\"less\")\n",
    "print(stat, pv)\n",
    "print(pv<0.05)\n",
    "stat, pv = mannwhitneyu(tiempos[\"SIACO\"], tiempos[\"IPR\"], alternative=\"greater\")\n",
    "\n",
    "print(pv<0.05)"
   ]
  },
  {
   "cell_type": "code",
   "execution_count": 41,
   "metadata": {},
   "outputs": [
    {
     "data": {
      "image/png": "[encoded data removed]",
      "text/plain": [
       "<Figure size 640x480 with 1 Axes>"
      ]
     },
     "metadata": {},
     "output_type": "display_data"
    }
   ],
   "source": [
    "plt.hist(tiempos[\"Dijkstra\"])\n",
    "plt.show()"
   ]
  },
  {
   "cell_type": "code",
   "execution_count": 100,
   "metadata": {},
   "outputs": [
    {
     "data": {
      "image/png": "[encoded data removed]",
      "text/plain": [
       "<Figure size 640x480 with 1 Axes>"
      ]
     },
     "metadata": {},
     "output_type": "display_data"
    }
   ],
   "source": [
    "import numpy as np\n",
    "import matplotlib.pyplot as plt\n",
    "\n",
    "# Generar datos aleatorios para los dos histogramas\n",
    "siaco = bootstrap_means_siaco\n",
    "iaco = bootstrap_means_iaco\n",
    "percentil_95_siaco = np.percentile(siaco, 97.5)\n",
    "percentil_95_iaco = np.percentile(iaco, 97.5)\n",
    "percentil_5_siaco = np.percentile(siaco, 2.5)\n",
    "percentil_5_iaco = np.percentile(iaco, 2.5)\n",
    "\n",
    "# Crear el histograma\n",
    "bins = np.linspace(100, 122, 50)  # Definir los límites y el número de bins\n",
    "\n",
    "# Crear los histogramas superpuestos\n",
    "plt.hist(siaco, bins=bins, alpha=0.8, label='SIACO', color='#9475AB', edgecolor='black')\n",
    "plt.hist(iaco, bins=bins, alpha=0.7, label='IACO', color='#75BF71', edgecolor='black')\n",
    "\n",
    "plt.axvline(percentil_95_siaco, color='#6A4D7F', linestyle='dashed', linewidth=2)\n",
    "plt.axvline(percentil_95_iaco, color='#4EA44A', linestyle='dashed', linewidth=2)\n",
    "plt.axvline(percentil_5_siaco, color='#6A4D7F', linestyle='dashed', linewidth=2)\n",
    "plt.axvline(percentil_5_iaco, color='#4EA44A', linestyle='dashed', linewidth=2)\n",
    "\n",
    "mid_point = (percentil_95_iaco + percentil_95_siaco) / 2\n",
    "plt.annotate(\n",
    "    '', \n",
    "    xy=(percentil_95_iaco, 160), \n",
    "    xytext=(percentil_95_siaco, 160),\n",
    "    arrowprops=dict(arrowstyle='<->', color='black')\n",
    ")\n",
    "# plt.text(mid_point, 162, 'Distancia entre P95', ha='center', va='bottom', color='black')\n",
    "\n",
    "# Obtener la leyenda actual\n",
    "handles, labels = plt.gca().get_legend_handles_labels()\n",
    "\n",
    "# Crear una línea con flecha doble para agregar a la leyenda\n",
    "arrow_line = plt.Line2D([0, 1], [0, 0], color='black', linestyle='-', linewidth=1, marker=None)\n",
    "arrow_line.set_clip_on(False)\n",
    "\n",
    "# Añadir la nueva entrada a la leyenda\n",
    "handles.append(arrow_line)\n",
    "labels.append('Flecha doble')\n",
    "\n",
    "# Mostrar la leyenda\n",
    "plt.legend(handles, labels, loc='upper right', bbox_to_anchor=(1.35, 0.6))\n",
    "\n",
    "plt.ylim(0, 200)\n",
    "\n",
    "# Añadir etiquetas y título\n",
    "plt.xlabel('Tiempo de viaje promedio')\n",
    "plt.ylabel('Frecuencia')\n",
    "plt.title('Comparación de distribuciones en el muestreo de la media')\n",
    "\n",
    "\n",
    "# Mostrar el gráfico\n",
    "plt.show()\n"
   ]
  },
  {
   "cell_type": "code",
   "execution_count": 32,
   "metadata": {},
   "outputs": [
    {
     "data": {
      "text/plain": [
       "array([117.93660175, 111.82513073, 114.03426925, 113.94114065,\n",
       "       114.36510397, 114.75830749, 116.86567734, 115.70787349,\n",
       "       116.08329594, 115.26828006, 115.47224559, 117.32979184,\n",
       "       112.65717008, 115.23292558, 115.35616273, 115.74581901,\n",
       "       115.26395457, 115.61343719, 115.35318945, 114.93840759,\n",
       "       116.13358665, 113.71792728, 113.83936373, 113.86755726,\n",
       "       118.81313947, 115.40022205, 117.12890965, 114.86137793,\n",
       "       118.32346152, 115.21901053, 114.95543781, 116.45273976,\n",
       "       116.22509514, 118.88637367, 114.21864942, 116.43881218,\n",
       "       115.90633294, 115.01879373, 114.82549312, 112.95197953,\n",
       "       114.67178804, 115.4552301 , 113.55895391, 115.49134936,\n",
       "       113.72807008, 116.30248389, 114.27379827, 111.49945533,\n",
       "       113.33946917, 112.36988021, 117.18720272, 115.82798002,\n",
       "       116.05255266, 113.23464412, 114.53993038, 111.94526828,\n",
       "       114.87674512, 113.42167821, 112.173013  , 112.23817406,\n",
       "       114.75809683, 112.68670831, 111.82128562, 117.64450501,\n",
       "       112.97115605, 115.25791192, 116.27111954, 113.56062255,\n",
       "       111.25969424, 117.22232967, 117.69413157, 114.56841735,\n",
       "       114.4373307 , 117.28895575, 116.74447766, 116.78293164,\n",
       "       114.0525517 , 114.04117358, 115.48338372, 113.43488909,\n",
       "       115.89132788, 113.26944594, 115.76100611, 114.24041423,\n",
       "       114.55095148, 117.18237519, 112.84765415, 115.16995349,\n",
       "       112.84701368, 116.33169944, 112.81150876, 114.99393335,\n",
       "       114.17886826, 115.2014116 , 116.98628521, 113.99331138,\n",
       "       113.61282205, 112.01052768, 116.08822035, 114.9707052 ,\n",
       "       114.69090136, 114.71941351, 117.1744734 , 115.47606885,\n",
       "       114.53254216, 112.1017096 , 113.71651902, 113.72404446,\n",
       "       116.12937321, 114.47632521, 116.02807141, 113.37251397,\n",
       "       114.10530686, 112.21548144, 113.91520973, 115.52171812,\n",
       "       112.08829755, 111.87351722, 113.65195572, 113.26527119,\n",
       "       117.67393496, 118.06161749, 115.30863545, 114.62350987,\n",
       "       117.18920516, 119.68291774, 112.63283137, 112.18894592,\n",
       "       112.00543832, 114.40398925, 113.92252844, 116.46818877,\n",
       "       116.44697206, 114.2202957 , 116.14731213, 114.15089655,\n",
       "       114.56219836, 114.58052898, 114.74029122, 115.11162971,\n",
       "       113.78281702, 115.15543034, 114.35711845, 118.45002416,\n",
       "       111.76495086, 112.71034619, 115.90490953, 118.6102398 ,\n",
       "       113.29991597, 113.58724546, 112.85136423, 114.70412597,\n",
       "       113.43347222, 115.89925973, 115.77081669, 115.25142033,\n",
       "       111.95431811, 115.48635502, 115.19718419, 113.90106816,\n",
       "       114.40033297, 113.52559739, 117.47817392, 115.7726263 ,\n",
       "       118.71492264, 116.18694933, 116.74301577, 115.13279739,\n",
       "       115.62128747, 114.27605824, 112.68545491, 113.61683647,\n",
       "       115.25832319, 111.43907767, 114.44888782, 111.71328163,\n",
       "       112.94863384, 117.61829646, 113.8631744 , 116.71303086,\n",
       "       115.98266549, 112.78868518, 112.55973932, 111.7058586 ,\n",
       "       117.77831945, 114.28916753, 112.85549407, 110.65800707,\n",
       "       113.89177376, 115.57422244, 117.16174439, 111.01837559,\n",
       "       113.51075912, 117.06457839, 112.71060337, 114.26336911,\n",
       "       114.29941956, 114.01079049, 115.51037726, 115.43118634,\n",
       "       116.524281  , 114.63816173, 115.5871522 , 114.41032423,\n",
       "       115.51709639, 116.60959157, 114.46676447, 116.30477994,\n",
       "       111.73804574, 113.51323461, 114.00027984, 114.61424525,\n",
       "       118.13351556, 115.50553313, 116.60227653, 115.53115975,\n",
       "       117.74218154, 117.31413199, 116.60115292, 113.94053135,\n",
       "       114.84172559, 116.77846009, 115.11000269, 112.92637548,\n",
       "       115.83777161, 110.94396713, 114.90047789, 115.42029156,\n",
       "       113.19329482, 116.24915161, 114.07838464, 112.31319132,\n",
       "       116.44712509, 116.54302638, 113.85566215, 113.09942983,\n",
       "       113.69568994, 116.02441781, 114.15464244, 115.40415206,\n",
       "       118.35613563, 116.41473268, 113.69041038, 113.24342366,\n",
       "       115.27923613, 115.71733221, 115.22994737, 118.45700798,\n",
       "       114.14234835, 115.54879594, 117.0331924 , 114.44122776,\n",
       "       115.09593134, 114.68468042, 116.00246989, 115.63305447,\n",
       "       114.86783441, 115.78661256, 114.19075238, 114.59064427,\n",
       "       115.23365031, 110.01121241, 114.76178256, 114.63546502,\n",
       "       114.02071236, 111.85507079, 113.11435689, 112.01021361,\n",
       "       112.68328023, 116.31556664, 115.14463119, 113.49313653,\n",
       "       111.35177397, 115.28792907, 114.81995331, 114.15907109,\n",
       "       114.95929698, 114.31311284, 117.18546367, 113.05288861,\n",
       "       114.14141404, 115.65571604, 117.41585182, 117.03209894,\n",
       "       116.69968013, 114.45899388, 114.86383858, 113.32304459,\n",
       "       113.68828718, 117.04054935, 112.6371945 , 113.57001352,\n",
       "       113.74069715, 114.23387279, 114.23177492, 118.37725027,\n",
       "       116.05611647, 114.70638709, 115.69414386, 113.7760382 ,\n",
       "       114.23482014, 112.29811626, 112.56877336, 115.65792763,\n",
       "       114.7397348 , 115.9771788 , 115.05571136, 117.18972199,\n",
       "       113.18942741, 116.05982945, 112.68791636, 115.05979641,\n",
       "       111.84420428, 115.6771505 , 116.17081419, 114.40684044,\n",
       "       117.69083568, 116.83753321, 115.85708443, 115.11717487,\n",
       "       115.34518046, 112.96761083, 114.08123408, 115.11524959,\n",
       "       113.68367508, 115.92590695, 117.74935945, 116.72596644,\n",
       "       115.34870545, 115.44399473, 113.00216577, 113.18446928,\n",
       "       113.91354057, 114.9975614 , 112.32335015, 114.39500884,\n",
       "       117.09959273, 114.37029703, 114.33673591, 112.99468575,\n",
       "       114.94467977, 116.73978456, 115.32299552, 116.58127703,\n",
       "       113.14792278, 114.29093797, 113.95702803, 115.84460821,\n",
       "       117.04984217, 113.60400682, 115.80591546, 113.94222959,\n",
       "       116.40291504, 116.85186566, 117.38568332, 115.90526095,\n",
       "       113.25107702, 114.73299377, 115.71049089, 115.35792173,\n",
       "       115.70524728, 115.11387316, 111.30050436, 113.46538303,\n",
       "       112.87958962, 116.19764161, 115.68188647, 112.08617334,\n",
       "       116.2927172 , 110.52157802, 114.02039516, 113.1179896 ,\n",
       "       114.97338258, 114.7979931 , 114.79378053, 113.63937147,\n",
       "       115.95211619, 114.85240589, 114.63807525, 110.68088702,\n",
       "       115.56981344, 116.43716178, 111.23850108, 113.26631491,\n",
       "       113.71428125, 114.87145068, 114.99244791, 117.17922568,\n",
       "       115.0549081 , 113.40102428, 118.06291699, 113.38697165,\n",
       "       115.46576078, 113.83062235, 115.00811536, 113.45773598,\n",
       "       116.52856192, 114.74225944, 113.640236  , 117.056121  ,\n",
       "       117.46091382, 115.13669331, 113.7992008 , 113.75857011,\n",
       "       113.51310271, 114.92175663, 114.17738023, 114.12423486,\n",
       "       116.76012226, 114.41623965, 118.58435548, 114.29254698,\n",
       "       114.44939513, 116.48717987, 111.46804902, 111.89990409,\n",
       "       113.84948694, 115.6543208 , 115.73739703, 115.68628046,\n",
       "       111.30345942, 113.63826255, 116.33607112, 113.69593187,\n",
       "       114.29990067, 114.93087309, 114.29141953, 116.24087708,\n",
       "       114.70268777, 113.1884605 , 113.25915097, 114.73663369,\n",
       "       115.16156819, 115.28010251, 117.65101445, 115.60975451,\n",
       "       117.86148007, 117.21354945, 114.62731163, 113.9051644 ,\n",
       "       117.57963935, 114.8876969 , 114.20007966, 114.90994801,\n",
       "       112.61576268, 112.56504773, 113.58372992, 116.20360697,\n",
       "       114.34126975, 112.59902692, 113.20996654, 112.32557936,\n",
       "       118.42919437, 114.05457895, 117.01003023, 117.10683208,\n",
       "       114.15566282, 114.14680056, 117.0357701 , 114.4241124 ,\n",
       "       115.31662659, 116.05800483, 113.18467392, 111.51251914,\n",
       "       114.87388279, 112.6072996 , 113.97537484, 113.58226149,\n",
       "       115.37345291, 115.01114618, 113.94666621, 116.92508996,\n",
       "       114.60864943, 118.10247649, 114.51757784, 114.4330669 ,\n",
       "       114.16408617, 111.71690783, 114.81524932, 116.41012486,\n",
       "       115.7850952 , 116.47520829, 114.70609129, 115.12480231,\n",
       "       113.09427975, 114.32320754, 115.95063458, 115.1449494 ,\n",
       "       115.01382687, 112.49727759, 114.08046657, 115.66107405,\n",
       "       117.20126086, 112.39500547, 112.87462862, 113.96591704,\n",
       "       114.13178253, 112.90947122, 115.56709869, 114.80391886,\n",
       "       113.14105706, 112.48167118, 115.32175243, 113.41054489,\n",
       "       113.56332205, 115.29009279, 114.77543387, 110.07279676,\n",
       "       117.738363  , 115.16596263, 114.28480963, 119.01255644,\n",
       "       112.58626894, 112.9437682 , 113.87345401, 118.29383275,\n",
       "       115.58916583, 115.72491995, 115.58166339, 115.9118434 ,\n",
       "       115.21259725, 115.70531726, 116.23964429, 114.1184327 ,\n",
       "       116.79906581, 114.60695437, 112.58624783, 114.4384771 ,\n",
       "       116.66043874, 116.75443967, 113.00809271, 115.10023493,\n",
       "       115.83836591, 115.35479464, 113.85631423, 116.22169865,\n",
       "       115.5883461 , 117.54053696, 115.14201661, 113.02951132,\n",
       "       112.48479137, 116.54249883, 111.92861438, 114.92055869,\n",
       "       112.86976878, 117.93217555, 112.90730144, 113.46944256,\n",
       "       117.22605486, 115.37777355, 115.18531871, 116.2509304 ,\n",
       "       112.11354729, 113.45749625, 111.89286005, 113.35175408,\n",
       "       114.20078557, 116.25021797, 115.19406334, 115.93022343,\n",
       "       113.22376223, 114.982939  , 116.86210603, 115.51554197,\n",
       "       113.50678185, 117.09601698, 114.80017235, 113.29715497,\n",
       "       114.42660279, 114.43565859, 114.23887993, 116.64832058,\n",
       "       114.51946718, 114.28282817, 112.23706102, 115.04179628,\n",
       "       114.5901111 , 114.34204064, 115.80187303, 113.75412282,\n",
       "       114.99553279, 114.17035766, 116.742086  , 113.12931641,\n",
       "       115.43624248, 114.34250996, 114.31634706, 114.14496547,\n",
       "       114.95595648, 114.54965513, 112.03477114, 115.216978  ,\n",
       "       113.28099405, 115.35544381, 117.011517  , 115.13880125,\n",
       "       117.35403564, 116.30139047, 113.52177731, 113.79619754,\n",
       "       114.64316217, 118.4909523 , 119.13836956, 115.47601403,\n",
       "       112.72434176, 115.03111623, 117.29994066, 116.83974145,\n",
       "       116.32423472, 114.44291199, 113.14069015, 115.13385325,\n",
       "       111.93381024, 116.99187705, 112.96750818, 116.31911601,\n",
       "       116.04121643, 115.14811616, 115.9750482 , 113.53816693,\n",
       "       115.75146183, 115.30480051, 113.91252003, 114.53934128,\n",
       "       113.35208018, 112.61950501, 111.97486139, 116.79839216,\n",
       "       113.7393193 , 116.29033309, 117.66529836, 114.00941825,\n",
       "       113.12255534, 115.31153853, 114.30317711, 114.32106609,\n",
       "       114.95487003, 111.7035314 , 112.96512281, 116.30032592,\n",
       "       112.18299964, 116.32068887, 121.12272363, 114.63016825,\n",
       "       117.33130472, 114.48491787, 112.01780346, 111.87678877,\n",
       "       118.07790654, 116.25210046, 116.26067818, 116.34957123,\n",
       "       113.68224589, 112.33414697, 112.40338675, 112.14632669,\n",
       "       115.12477588, 115.82789179, 112.32514505, 114.00717632,\n",
       "       118.79576369, 114.09879256, 113.36423487, 114.67975975,\n",
       "       115.54153893, 114.73712429, 113.36191251, 115.1075151 ,\n",
       "       114.86789841, 114.22987399, 112.05207875, 114.76592942,\n",
       "       115.58782272, 113.43694895, 116.00818678, 112.4717106 ,\n",
       "       113.97672187, 115.24762166, 113.76261564, 113.37671829,\n",
       "       113.84440858, 114.15311989, 115.8324721 , 116.07064308,\n",
       "       112.9480781 , 117.07989428, 115.2055088 , 114.59534217,\n",
       "       114.83803543, 117.14174621, 115.08748367, 114.68567193,\n",
       "       114.67913618, 116.54592103, 114.16949931, 111.58431525,\n",
       "       113.88793594, 114.74311379, 117.36433456, 115.64495587,\n",
       "       113.20073605, 115.73778525, 114.50647994, 117.05048813,\n",
       "       117.11231368, 114.91556422, 112.63386853, 114.07837592,\n",
       "       115.42411864, 114.0800796 , 116.72622543, 115.66217736,\n",
       "       115.73444256, 115.44920066, 116.29635799, 111.34583804,\n",
       "       111.62670878, 115.44317286, 113.36821837, 115.74944971,\n",
       "       117.15126721, 116.58459604, 112.63924778, 113.91295217,\n",
       "       112.82107715, 114.69854668, 116.15238294, 113.9155921 ,\n",
       "       113.01077735, 115.4847236 , 113.14105938, 113.47990334,\n",
       "       115.30626488, 115.84997321, 113.37964957, 113.81604373,\n",
       "       116.26827353, 111.82280682, 114.4094464 , 115.40013243,\n",
       "       113.28484431, 114.05023735, 117.17665948, 113.388831  ,\n",
       "       113.96313474, 111.77614387, 112.43857602, 117.70268101,\n",
       "       112.83837331, 114.81239048, 114.74129496, 112.86869446,\n",
       "       115.04403519, 115.34234309, 114.18088199, 113.46023106,\n",
       "       115.87707893, 117.91231853, 114.59062362, 116.12760196,\n",
       "       116.8094043 , 115.53712591, 115.6003057 , 111.9490597 ,\n",
       "       116.95619084, 115.94525656, 113.74976463, 115.03476888,\n",
       "       114.48580476, 113.1494149 , 112.94477613, 112.87987972,\n",
       "       116.10067093, 115.55079653, 113.60060681, 114.39194917,\n",
       "       113.74423383, 115.83835966, 117.39822366, 111.7171255 ,\n",
       "       111.64827215, 115.45112438, 113.51553721, 114.19108948,\n",
       "       114.60203107, 113.33571877, 115.59545852, 116.73262917,\n",
       "       114.62056425, 116.19470468, 115.29411282, 115.58220809,\n",
       "       114.08728799, 113.81412751, 115.13380308, 114.42797128,\n",
       "       117.15772485, 117.01659187, 117.62173294, 110.42998411,\n",
       "       112.15558602, 115.18194174, 116.63448278, 115.94261981,\n",
       "       115.92317587, 115.11637729, 116.90278523, 117.67906512,\n",
       "       111.61396084, 113.54797292, 115.99792011, 115.47747717,\n",
       "       115.30493338, 112.96219839, 114.57583197, 115.43636524,\n",
       "       115.01859883, 115.03782998, 115.34967897, 115.20527457,\n",
       "       116.16396838, 116.20681802, 112.35746522, 115.31570977,\n",
       "       113.77487691, 112.01785385, 113.77350257, 114.3869577 ,\n",
       "       116.5334479 , 111.86525612, 116.30726765, 118.11730593,\n",
       "       113.00439397, 116.51877641, 115.43463818, 115.48489578,\n",
       "       115.43205115, 120.46999557, 112.14279423, 113.84479179,\n",
       "       117.432257  , 113.69500672, 115.1933065 , 112.66037495,\n",
       "       116.11002345, 115.05786614, 115.10263433, 115.37728331,\n",
       "       115.11139602, 114.29584807, 114.8355404 , 114.11863743,\n",
       "       115.35133139, 113.51804882, 115.88469155, 118.2684401 ,\n",
       "       116.31423829, 115.03181355, 115.08789752, 114.56360545,\n",
       "       114.43862255, 117.02309429, 114.07201702, 111.49957432,\n",
       "       112.66788164, 114.13191713, 115.87114205, 114.74023273,\n",
       "       112.9225788 , 114.9751305 , 113.24646961, 113.38258262,\n",
       "       112.16190003, 111.94083025, 116.61428368, 114.91973298,\n",
       "       113.57073685, 112.44701001, 116.28336536, 115.72351192,\n",
       "       113.01433723, 114.56014007, 114.28387751, 111.79716289,\n",
       "       114.85606853, 114.86559338, 113.18115869, 115.71112074,\n",
       "       113.30137561, 110.66081298, 112.98370541, 113.79161175,\n",
       "       115.15985603, 113.96516703, 113.71532607, 114.40191191,\n",
       "       113.88099833, 115.52486547, 113.22820581, 112.23086721,\n",
       "       114.48883222, 117.56121144, 111.19338375, 113.68855067,\n",
       "       114.88669925, 115.55187364, 117.62057052, 116.7284823 ,\n",
       "       112.7164523 , 115.72486677, 113.64080582, 115.39329405,\n",
       "       113.62936898, 113.24415709, 114.82698327, 111.4070289 ,\n",
       "       115.4522011 , 114.15746715, 112.30959557, 115.65632292,\n",
       "       114.96250489, 115.32641399, 115.97523449, 116.33393314,\n",
       "       116.13140731, 118.58560532, 116.05145652, 115.10893698,\n",
       "       119.07191842, 114.31846625, 116.57100163, 115.7777555 ,\n",
       "       114.70128199, 115.58712129, 113.12083866, 115.07726284,\n",
       "       113.37396454, 114.11635454, 114.7766244 , 114.89749974,\n",
       "       114.145325  , 114.63966329, 114.41067474, 114.8130602 ,\n",
       "       114.95911366, 112.13076298, 114.49606217, 114.2815645 ,\n",
       "       115.50130663, 114.72526099, 114.87983016, 114.42927425,\n",
       "       115.31381942, 113.31322458, 114.63829777, 117.28603769,\n",
       "       114.28551205, 113.77137553, 114.54673695, 117.70283053,\n",
       "       114.17580558, 115.59599416, 111.83482112, 111.9328196 ,\n",
       "       113.97432615, 113.69459908, 114.42462014, 113.17823199,\n",
       "       113.96523166, 112.02403671, 114.45304169, 117.77278603,\n",
       "       113.66269523, 113.59721074, 112.8763459 , 116.1978815 ,\n",
       "       114.34812088, 115.14975532, 118.37574151, 113.18529628,\n",
       "       115.80893313, 115.35667633, 114.90505274, 117.13168772,\n",
       "       112.12056117, 115.14967815, 116.30838228, 112.89027047,\n",
       "       119.64701003, 114.29075883, 114.46327025, 112.35186226,\n",
       "       115.41684771, 109.71078955, 113.85714643, 114.01110169,\n",
       "       112.29369163, 118.06890992, 114.22321725, 116.25448893])"
      ]
     },
     "execution_count": 32,
     "metadata": {},
     "output_type": "execute_result"
    }
   ],
   "source": [
    "bootstrap_means_siaco"
   ]
  },
  {
   "cell_type": "code",
   "execution_count": 29,
   "metadata": {},
   "outputs": [
    {
     "data": {
      "image/png": "[encoded data removed]",
      "text/plain": [
       "<Figure size 640x480 with 1 Axes>"
      ]
     },
     "metadata": {},
     "output_type": "display_data"
    }
   ],
   "source": [
    "import numpy as np\n",
    "import matplotlib.pyplot as plt\n",
    "import matplotlib.colors as mcolors\n",
    "\n",
    "# Generar datos aleatorios de una distribución normal\n",
    "data = bootstrap_means_siaco\n",
    "\n",
    "# Crear el histograma\n",
    "n, bins, patches = plt.hist(data, bins=20, edgecolor='black')\n",
    "\n",
    "# Definir el color base\n",
    "base_color = \"#1f77b4\"  # Azul\n",
    "\n",
    "# Crear un colormap personalizado con degradado\n",
    "cmap = mcolors.LinearSegmentedColormap.from_list(\"custom_cmap\", [base_color, \"white\"])\n",
    "\n",
    "# Aplicar el degradado a cada barra\n",
    "for patch in patches:\n",
    "    # Crear un degradado en cada barra\n",
    "    path = patch.get_path()\n",
    "    verts = path.vertices\n",
    "    verts = np.vstack([verts, verts[-2]])  # Añadir el último vértice para cerrar el path\n",
    "    gradient = np.linspace(0, 1, 256).reshape(256, 1)\n",
    "    gradient = np.repeat(gradient, 4, axis=1)\n",
    "\n",
    "    # Crear un array de colores\n",
    "    colors = cmap(gradient)[:, 0, :]\n",
    "\n",
    "    # Crear el PathPatch con el degradado\n",
    "    patch.set_facecolor(colors[128])\n",
    "    patch.set_edgecolor('black')\n",
    "\n",
    "plt.show()\n"
   ]
  },
  {
   "cell_type": "code",
   "execution_count": 21,
   "metadata": {},
   "outputs": [
    {
     "data": {
      "image/png": "[encoded data removed]",
      "text/plain": [
       "<Figure size 640x480 with 1 Axes>"
      ]
     },
     "metadata": {},
     "output_type": "display_data"
    }
   ],
   "source": [
    "import numpy as np\n",
    "import matplotlib.pyplot as plt\n",
    "from matplotlib.patches import Rectangle\n",
    "from matplotlib.collections import PatchCollection\n",
    "\n",
    "# Generar datos aleatorios\n",
    "data = np.random.randn(1000)\n",
    "\n",
    "# Crear el histograma\n",
    "n, bins, patches = plt.hist(data, bins=30, edgecolor='black')\n",
    "\n",
    "# Crear un gradiente de color\n",
    "cmap = plt.get_cmap('viridis')\n",
    "norm = plt.Normalize(min(n), max(n))\n",
    "\n",
    "# Aplicar el gradiente a cada barra\n",
    "for bin_start, bin_end, patch in zip(bins[:-1], bins[1:], patches):\n",
    "    bin_height = patch.get_height()\n",
    "    gradient = np.linspace(0, 1, 256)\n",
    "    gradient = np.vstack((gradient, gradient))\n",
    "\n",
    "    # Crear un gradiente de color para cada barra\n",
    "    patch.set_facecolor(cmap(norm(bin_height)))\n",
    "\n",
    "# Mostrar el gráfico\n",
    "plt.xlabel('Valor')\n",
    "plt.ylabel('Frecuencia')\n",
    "plt.title('Histograma con Degradado en las Barras')\n",
    "plt.show()\n"
   ]
  },
  {
   "cell_type": "code",
   "execution_count": 22,
   "metadata": {},
   "outputs": [
    {
     "data": {
      "text/plain": [
       "(114.77082112453179, 108.26161470740537)"
      ]
     },
     "execution_count": 22,
     "metadata": {},
     "output_type": "execute_result"
    }
   ],
   "source": [
    "mean(siaco_batch.veh_global_stats[\"time\"]), mean(iaco_batch.veh_global_stats[\"time\"])"
   ]
  },
  {
   "cell_type": "code",
   "execution_count": 22,
   "metadata": {},
   "outputs": [
    {
     "ename": "AttributeError",
     "evalue": "Rectangle.set() got an unexpected keyword argument 'opacity'",
     "output_type": "error",
     "traceback": [
      "\u001b[1;31m---------------------------------------------------------------------------\u001b[0m",
      "\u001b[1;31mAttributeError\u001b[0m                            Traceback (most recent call last)",
      "Cell \u001b[1;32mIn[22], line 1\u001b[0m\n\u001b[1;32m----> 1\u001b[0m \u001b[43mplt\u001b[49m\u001b[38;5;241;43m.\u001b[39;49m\u001b[43mhist\u001b[49m\u001b[43m(\u001b[49m\u001b[43mtiempos\u001b[49m\u001b[43m[\u001b[49m\u001b[38;5;124;43m\"\u001b[39;49m\u001b[38;5;124;43mIACO\u001b[39;49m\u001b[38;5;124;43m\"\u001b[39;49m\u001b[43m]\u001b[49m\u001b[43m,\u001b[49m\u001b[43m \u001b[49m\u001b[43mopacity\u001b[49m\u001b[43m \u001b[49m\u001b[38;5;241;43m=\u001b[39;49m\u001b[43m \u001b[49m\u001b[38;5;241;43m0.4\u001b[39;49m\u001b[43m)\u001b[49m\n\u001b[0;32m      2\u001b[0m plt\u001b[38;5;241m.\u001b[39mshow()\n",
      "File \u001b[1;32mc:\\Users\\colla\\anaconda3\\envs\\tfg\\Lib\\site-packages\\matplotlib\\pyplot.py:3236\u001b[0m, in \u001b[0;36mhist\u001b[1;34m(x, bins, range, density, weights, cumulative, bottom, histtype, align, orientation, rwidth, log, color, label, stacked, data, **kwargs)\u001b[0m\n\u001b[0;32m   3211\u001b[0m \u001b[38;5;129m@_copy_docstring_and_deprecators\u001b[39m(Axes\u001b[38;5;241m.\u001b[39mhist)\n\u001b[0;32m   3212\u001b[0m \u001b[38;5;28;01mdef\u001b[39;00m \u001b[38;5;21mhist\u001b[39m(\n\u001b[0;32m   3213\u001b[0m     x: ArrayLike \u001b[38;5;241m|\u001b[39m Sequence[ArrayLike],\n\u001b[1;32m   (...)\u001b[0m\n\u001b[0;32m   3234\u001b[0m     BarContainer \u001b[38;5;241m|\u001b[39m Polygon \u001b[38;5;241m|\u001b[39m \u001b[38;5;28mlist\u001b[39m[BarContainer \u001b[38;5;241m|\u001b[39m Polygon],\n\u001b[0;32m   3235\u001b[0m ]:\n\u001b[1;32m-> 3236\u001b[0m     \u001b[38;5;28;01mreturn\u001b[39;00m \u001b[43mgca\u001b[49m\u001b[43m(\u001b[49m\u001b[43m)\u001b[49m\u001b[38;5;241;43m.\u001b[39;49m\u001b[43mhist\u001b[49m\u001b[43m(\u001b[49m\n\u001b[0;32m   3237\u001b[0m \u001b[43m        \u001b[49m\u001b[43mx\u001b[49m\u001b[43m,\u001b[49m\n\u001b[0;32m   3238\u001b[0m \u001b[43m        \u001b[49m\u001b[43mbins\u001b[49m\u001b[38;5;241;43m=\u001b[39;49m\u001b[43mbins\u001b[49m\u001b[43m,\u001b[49m\n\u001b[0;32m   3239\u001b[0m \u001b[43m        \u001b[49m\u001b[38;5;28;43mrange\u001b[39;49m\u001b[38;5;241;43m=\u001b[39;49m\u001b[38;5;28;43mrange\u001b[39;49m\u001b[43m,\u001b[49m\n\u001b[0;32m   3240\u001b[0m \u001b[43m        \u001b[49m\u001b[43mdensity\u001b[49m\u001b[38;5;241;43m=\u001b[39;49m\u001b[43mdensity\u001b[49m\u001b[43m,\u001b[49m\n\u001b[0;32m   3241\u001b[0m \u001b[43m        \u001b[49m\u001b[43mweights\u001b[49m\u001b[38;5;241;43m=\u001b[39;49m\u001b[43mweights\u001b[49m\u001b[43m,\u001b[49m\n\u001b[0;32m   3242\u001b[0m \u001b[43m        \u001b[49m\u001b[43mcumulative\u001b[49m\u001b[38;5;241;43m=\u001b[39;49m\u001b[43mcumulative\u001b[49m\u001b[43m,\u001b[49m\n\u001b[0;32m   3243\u001b[0m \u001b[43m        \u001b[49m\u001b[43mbottom\u001b[49m\u001b[38;5;241;43m=\u001b[39;49m\u001b[43mbottom\u001b[49m\u001b[43m,\u001b[49m\n\u001b[0;32m   3244\u001b[0m \u001b[43m        \u001b[49m\u001b[43mhisttype\u001b[49m\u001b[38;5;241;43m=\u001b[39;49m\u001b[43mhisttype\u001b[49m\u001b[43m,\u001b[49m\n\u001b[0;32m   3245\u001b[0m \u001b[43m        \u001b[49m\u001b[43malign\u001b[49m\u001b[38;5;241;43m=\u001b[39;49m\u001b[43malign\u001b[49m\u001b[43m,\u001b[49m\n\u001b[0;32m   3246\u001b[0m \u001b[43m        \u001b[49m\u001b[43morientation\u001b[49m\u001b[38;5;241;43m=\u001b[39;49m\u001b[43morientation\u001b[49m\u001b[43m,\u001b[49m\n\u001b[0;32m   3247\u001b[0m \u001b[43m        \u001b[49m\u001b[43mrwidth\u001b[49m\u001b[38;5;241;43m=\u001b[39;49m\u001b[43mrwidth\u001b[49m\u001b[43m,\u001b[49m\n\u001b[0;32m   3248\u001b[0m \u001b[43m        \u001b[49m\u001b[43mlog\u001b[49m\u001b[38;5;241;43m=\u001b[39;49m\u001b[43mlog\u001b[49m\u001b[43m,\u001b[49m\n\u001b[0;32m   3249\u001b[0m \u001b[43m        \u001b[49m\u001b[43mcolor\u001b[49m\u001b[38;5;241;43m=\u001b[39;49m\u001b[43mcolor\u001b[49m\u001b[43m,\u001b[49m\n\u001b[0;32m   3250\u001b[0m \u001b[43m        \u001b[49m\u001b[43mlabel\u001b[49m\u001b[38;5;241;43m=\u001b[39;49m\u001b[43mlabel\u001b[49m\u001b[43m,\u001b[49m\n\u001b[0;32m   3251\u001b[0m \u001b[43m        \u001b[49m\u001b[43mstacked\u001b[49m\u001b[38;5;241;43m=\u001b[39;49m\u001b[43mstacked\u001b[49m\u001b[43m,\u001b[49m\n\u001b[0;32m   3252\u001b[0m \u001b[43m        \u001b[49m\u001b[38;5;241;43m*\u001b[39;49m\u001b[38;5;241;43m*\u001b[39;49m\u001b[43m(\u001b[49m\u001b[43m{\u001b[49m\u001b[38;5;124;43m\"\u001b[39;49m\u001b[38;5;124;43mdata\u001b[39;49m\u001b[38;5;124;43m\"\u001b[39;49m\u001b[43m:\u001b[49m\u001b[43m \u001b[49m\u001b[43mdata\u001b[49m\u001b[43m}\u001b[49m\u001b[43m \u001b[49m\u001b[38;5;28;43;01mif\u001b[39;49;00m\u001b[43m \u001b[49m\u001b[43mdata\u001b[49m\u001b[43m \u001b[49m\u001b[38;5;129;43;01mis\u001b[39;49;00m\u001b[43m \u001b[49m\u001b[38;5;129;43;01mnot\u001b[39;49;00m\u001b[43m \u001b[49m\u001b[38;5;28;43;01mNone\u001b[39;49;00m\u001b[43m \u001b[49m\u001b[38;5;28;43;01melse\u001b[39;49;00m\u001b[43m \u001b[49m\u001b[43m{\u001b[49m\u001b[43m}\u001b[49m\u001b[43m)\u001b[49m\u001b[43m,\u001b[49m\n\u001b[0;32m   3253\u001b[0m \u001b[43m        \u001b[49m\u001b[38;5;241;43m*\u001b[39;49m\u001b[38;5;241;43m*\u001b[39;49m\u001b[43mkwargs\u001b[49m\u001b[43m,\u001b[49m\n\u001b[0;32m   3254\u001b[0m \u001b[43m    \u001b[49m\u001b[43m)\u001b[49m\n",
      "File \u001b[1;32mc:\\Users\\colla\\anaconda3\\envs\\tfg\\Lib\\site-packages\\matplotlib\\__init__.py:1478\u001b[0m, in \u001b[0;36m_preprocess_data.<locals>.inner\u001b[1;34m(ax, data, *args, **kwargs)\u001b[0m\n\u001b[0;32m   1475\u001b[0m \u001b[38;5;129m@functools\u001b[39m\u001b[38;5;241m.\u001b[39mwraps(func)\n\u001b[0;32m   1476\u001b[0m \u001b[38;5;28;01mdef\u001b[39;00m \u001b[38;5;21minner\u001b[39m(ax, \u001b[38;5;241m*\u001b[39margs, data\u001b[38;5;241m=\u001b[39m\u001b[38;5;28;01mNone\u001b[39;00m, \u001b[38;5;241m*\u001b[39m\u001b[38;5;241m*\u001b[39mkwargs):\n\u001b[0;32m   1477\u001b[0m     \u001b[38;5;28;01mif\u001b[39;00m data \u001b[38;5;129;01mis\u001b[39;00m \u001b[38;5;28;01mNone\u001b[39;00m:\n\u001b[1;32m-> 1478\u001b[0m         \u001b[38;5;28;01mreturn\u001b[39;00m \u001b[43mfunc\u001b[49m\u001b[43m(\u001b[49m\u001b[43max\u001b[49m\u001b[43m,\u001b[49m\u001b[43m \u001b[49m\u001b[38;5;241;43m*\u001b[39;49m\u001b[38;5;28;43mmap\u001b[39;49m\u001b[43m(\u001b[49m\u001b[43msanitize_sequence\u001b[49m\u001b[43m,\u001b[49m\u001b[43m \u001b[49m\u001b[43margs\u001b[49m\u001b[43m)\u001b[49m\u001b[43m,\u001b[49m\u001b[43m \u001b[49m\u001b[38;5;241;43m*\u001b[39;49m\u001b[38;5;241;43m*\u001b[39;49m\u001b[43mkwargs\u001b[49m\u001b[43m)\u001b[49m\n\u001b[0;32m   1480\u001b[0m     bound \u001b[38;5;241m=\u001b[39m new_sig\u001b[38;5;241m.\u001b[39mbind(ax, \u001b[38;5;241m*\u001b[39margs, \u001b[38;5;241m*\u001b[39m\u001b[38;5;241m*\u001b[39mkwargs)\n\u001b[0;32m   1481\u001b[0m     auto_label \u001b[38;5;241m=\u001b[39m (bound\u001b[38;5;241m.\u001b[39marguments\u001b[38;5;241m.\u001b[39mget(label_namer)\n\u001b[0;32m   1482\u001b[0m                   \u001b[38;5;129;01mor\u001b[39;00m bound\u001b[38;5;241m.\u001b[39mkwargs\u001b[38;5;241m.\u001b[39mget(label_namer))\n",
      "File \u001b[1;32mc:\\Users\\colla\\anaconda3\\envs\\tfg\\Lib\\site-packages\\matplotlib\\axes\\_axes.py:7015\u001b[0m, in \u001b[0;36mAxes.hist\u001b[1;34m(self, x, bins, range, density, weights, cumulative, bottom, histtype, align, orientation, rwidth, log, color, label, stacked, **kwargs)\u001b[0m\n\u001b[0;32m   7013\u001b[0m \u001b[38;5;28;01mif\u001b[39;00m patch:\n\u001b[0;32m   7014\u001b[0m     p \u001b[38;5;241m=\u001b[39m patch[\u001b[38;5;241m0\u001b[39m]\n\u001b[1;32m-> 7015\u001b[0m     \u001b[43mp\u001b[49m\u001b[38;5;241;43m.\u001b[39;49m\u001b[43m_internal_update\u001b[49m\u001b[43m(\u001b[49m\u001b[43mkwargs\u001b[49m\u001b[43m)\u001b[49m\n\u001b[0;32m   7016\u001b[0m     \u001b[38;5;28;01mif\u001b[39;00m lbl \u001b[38;5;129;01mis\u001b[39;00m \u001b[38;5;129;01mnot\u001b[39;00m \u001b[38;5;28;01mNone\u001b[39;00m:\n\u001b[0;32m   7017\u001b[0m         p\u001b[38;5;241m.\u001b[39mset_label(lbl)\n",
      "File \u001b[1;32mc:\\Users\\colla\\anaconda3\\envs\\tfg\\Lib\\site-packages\\matplotlib\\artist.py:1219\u001b[0m, in \u001b[0;36mArtist._internal_update\u001b[1;34m(self, kwargs)\u001b[0m\n\u001b[0;32m   1212\u001b[0m \u001b[38;5;28;01mdef\u001b[39;00m \u001b[38;5;21m_internal_update\u001b[39m(\u001b[38;5;28mself\u001b[39m, kwargs):\n\u001b[0;32m   1213\u001b[0m \u001b[38;5;250m    \u001b[39m\u001b[38;5;124;03m\"\"\"\u001b[39;00m\n\u001b[0;32m   1214\u001b[0m \u001b[38;5;124;03m    Update artist properties without prenormalizing them, but generating\u001b[39;00m\n\u001b[0;32m   1215\u001b[0m \u001b[38;5;124;03m    errors as if calling `set`.\u001b[39;00m\n\u001b[0;32m   1216\u001b[0m \n\u001b[0;32m   1217\u001b[0m \u001b[38;5;124;03m    The lack of prenormalization is to maintain backcompatibility.\u001b[39;00m\n\u001b[0;32m   1218\u001b[0m \u001b[38;5;124;03m    \"\"\"\u001b[39;00m\n\u001b[1;32m-> 1219\u001b[0m     \u001b[38;5;28;01mreturn\u001b[39;00m \u001b[38;5;28;43mself\u001b[39;49m\u001b[38;5;241;43m.\u001b[39;49m\u001b[43m_update_props\u001b[49m\u001b[43m(\u001b[49m\n\u001b[0;32m   1220\u001b[0m \u001b[43m        \u001b[49m\u001b[43mkwargs\u001b[49m\u001b[43m,\u001b[49m\u001b[43m \u001b[49m\u001b[38;5;124;43m\"\u001b[39;49m\u001b[38;5;132;43;01m{cls.__name__}\u001b[39;49;00m\u001b[38;5;124;43m.set() got an unexpected keyword argument \u001b[39;49m\u001b[38;5;124;43m\"\u001b[39;49m\n\u001b[0;32m   1221\u001b[0m \u001b[43m        \u001b[49m\u001b[38;5;124;43m\"\u001b[39;49m\u001b[38;5;132;43;01m{prop_name!r}\u001b[39;49;00m\u001b[38;5;124;43m\"\u001b[39;49m\u001b[43m)\u001b[49m\n",
      "File \u001b[1;32mc:\\Users\\colla\\anaconda3\\envs\\tfg\\Lib\\site-packages\\matplotlib\\artist.py:1193\u001b[0m, in \u001b[0;36mArtist._update_props\u001b[1;34m(self, props, errfmt)\u001b[0m\n\u001b[0;32m   1191\u001b[0m             func \u001b[38;5;241m=\u001b[39m \u001b[38;5;28mgetattr\u001b[39m(\u001b[38;5;28mself\u001b[39m, \u001b[38;5;124mf\u001b[39m\u001b[38;5;124m\"\u001b[39m\u001b[38;5;124mset_\u001b[39m\u001b[38;5;132;01m{\u001b[39;00mk\u001b[38;5;132;01m}\u001b[39;00m\u001b[38;5;124m\"\u001b[39m, \u001b[38;5;28;01mNone\u001b[39;00m)\n\u001b[0;32m   1192\u001b[0m             \u001b[38;5;28;01mif\u001b[39;00m \u001b[38;5;129;01mnot\u001b[39;00m \u001b[38;5;28mcallable\u001b[39m(func):\n\u001b[1;32m-> 1193\u001b[0m                 \u001b[38;5;28;01mraise\u001b[39;00m \u001b[38;5;167;01mAttributeError\u001b[39;00m(\n\u001b[0;32m   1194\u001b[0m                     errfmt\u001b[38;5;241m.\u001b[39mformat(\u001b[38;5;28mcls\u001b[39m\u001b[38;5;241m=\u001b[39m\u001b[38;5;28mtype\u001b[39m(\u001b[38;5;28mself\u001b[39m), prop_name\u001b[38;5;241m=\u001b[39mk))\n\u001b[0;32m   1195\u001b[0m             ret\u001b[38;5;241m.\u001b[39mappend(func(v))\n\u001b[0;32m   1196\u001b[0m \u001b[38;5;28;01mif\u001b[39;00m ret:\n",
      "\u001b[1;31mAttributeError\u001b[0m: Rectangle.set() got an unexpected keyword argument 'opacity'"
     ]
    },
    {
     "data": {
      "image/png": "[encoded data removed]",
      "text/plain": [
       "<Figure size 640x480 with 1 Axes>"
      ]
     },
     "metadata": {},
     "output_type": "display_data"
    }
   ],
   "source": [
    "plt.hist(tiempos[\"IACO\"])\n",
    "plt.show()"
   ]
  },
  {
   "cell_type": "code",
   "execution_count": 26,
   "metadata": {},
   "outputs": [
    {
     "name": "stdout",
     "output_type": "stream",
     "text": [
      "Intervalo de confianza del 95.0%: (104.37363583034261, 113.99266206758284)\n",
      "Media muestral: 108.26161470740539\n"
     ]
    }
   ],
   "source": [
    "import numpy as np\n",
    "import scipy.stats as stats\n",
    "\n",
    "# Datos de muestra\n",
    "muestra = tiempos[\"IACO\"]\n",
    "\n",
    "# Parámetros\n",
    "n_bootstrap = 1000  # Número de muestras bootstrap\n",
    "alpha = 0.05  # Nivel de significancia\n",
    "\n",
    "# Generar muestras bootstrap y calcular medias\n",
    "bootstrap_means_iaco = np.array([np.mean(np.random.choice(muestra, size=len(muestra), replace=True)) for _ in range(n_bootstrap)])\n",
    "\n",
    "# Calcular percentiles para el intervalo de confianza\n",
    "lower_bound = np.percentile(bootstrap_means_iaco, 100 * (alpha/2))\n",
    "upper_bound = np.percentile(bootstrap_means_iaco, 100 * (1 - alpha/2))\n",
    "\n",
    "# Media muestral\n",
    "media_muestral_iaco = np.mean(muestra)\n",
    "\n",
    "# Resultado\n",
    "print(f\"Intervalo de confianza del {100 * (1 - alpha)}%: ({lower_bound}, {upper_bound})\")\n",
    "print(f\"Media muestral: {media_muestral_iaco}\")\n"
   ]
  },
  {
   "cell_type": "code",
   "execution_count": 148,
   "metadata": {},
   "outputs": [
    {
     "name": "stdout",
     "output_type": "stream",
     "text": [
      "Intervalo de confianza del 95.0%: (0.3543736034272414, 12.053987827705267)\n",
      "Media muestral: 114.75783549508583\n",
      "Media muestral2: 67.8650528986506\n"
     ]
    }
   ],
   "source": [
    "import numpy as np\n",
    "import scipy.stats as stats\n",
    "\n",
    "# Datos de muestra\n",
    "muestra = tiempos[\"SIACO\"]\n",
    "\n",
    "# Parámetros\n",
    "n_bootstrap = 9999  # Número de muestras bootstrap\n",
    "alpha = 0.05  # Nivel de significancia\n",
    "\n",
    "# Generar muestras bootstrap y calcular medias\n",
    "# bootstrap_means = []\n",
    "# for _ in range(n_bootstrap):\n",
    "#     resample = np.random.choice(muestra, size=len(muestra), replace=True)\n",
    "#     stat = np.mean(resample)/(np.std(resample)/np.sqrt(len(resample)))\n",
    "#     bootstrap_means_siaco2.append(stat)\n",
    "bootstrap_means_siaco = np.array([np.mean(np.random.choice(muestra, size=len(muestra), replace=True)) for _ in range(n_bootstrap)])\n",
    "bootstrap_means= np.array([np.mean(np.random.choice(tiempos[\"SIACO\"], size=len(tiempos[\"SIACO\"]), replace=True)) - np.mean(np.random.choice(tiempos[\"IACO\"], size=len(tiempos[\"IACO\"]), replace=True)) for _ in range(n_bootstrap)])\n",
    "\n",
    "# Calcular percentiles para el intervalo de confianza\n",
    "lower_bound = np.percentile(bootstrap_means, 100 * (alpha/2))\n",
    "upper_bound = np.percentile(bootstrap_means, 100 * (1 - alpha/2))\n",
    "\n",
    "# Media muestral\n",
    "media_muestral_siaco = np.mean(bootstrap_means_siaco)\n",
    "media_muestral_siaco2 = np.mean(bootstrap_means_siaco2)\n",
    "\n",
    "# Resultado\n",
    "print(f\"Intervalo de confianza del {100 * (1 - alpha)}%: ({lower_bound}, {upper_bound})\")\n",
    "print(f\"Media muestral: {media_muestral_siaco}\")\n",
    "print(f\"Media muestral2: {media_muestral_siaco2}\")"
   ]
  },
  {
   "cell_type": "code",
   "execution_count": 119,
   "metadata": {},
   "outputs": [
    {
     "data": {
      "text/plain": [
       "72.72404610337499"
      ]
     },
     "execution_count": 119,
     "metadata": {},
     "output_type": "execute_result"
    }
   ],
   "source": [
    "bootstrap_means_siaco2.sort()\n",
    "bootstrap_means_siaco2[int(len(bootstrap_means_siaco2)*0.025)]*np.std(bootstrap_means_siaco2)/np.sqrt(len(bootstrap_means_siaco2))+np.mean(bootstrap_means_siaco2)"
   ]
  },
  {
   "cell_type": "code",
   "execution_count": 126,
   "metadata": {},
   "outputs": [
    {
     "data": {
      "text/plain": [
       "54.29954229300105"
      ]
     },
     "execution_count": 126,
     "metadata": {},
     "output_type": "execute_result"
    }
   ],
   "source": [
    "np.std(bootstrap_means_siaco2)\n",
    "np.sqrt(len(bootstrap_means_siaco2))\n",
    "bootstrap_means_siaco2[int(len(bootstrap_means_siaco2)*0.025)]\n",
    "# int(len(bootstrap_means_siaco2)*0.025)\n"
   ]
  },
  {
   "cell_type": "code",
   "execution_count": 162,
   "metadata": {},
   "outputs": [
    {
     "data": {
      "image/png": "[encoded data removed]",
      "text/plain": [
       "<Figure size 640x480 with 1 Axes>"
      ]
     },
     "metadata": {},
     "output_type": "display_data"
    }
   ],
   "source": [
    "plt.hist(bootstrap_means, bins=30, alpha=0.7)\n",
    "plt.axvline(lower_bound, color='red', linestyle='dashed', linewidth=2)\n",
    "plt.axvline(upper_bound, color='red', linestyle='dashed', linewidth=2)\n",
    "plt.title(\"Distribución de bootstraping sobre la diferencia de medias\")\n",
    "plt.ylim(top=1500)\n",
    "plt.xlabel(\"Diferencia (en iteraciones)\")\n",
    "plt.ylabel(\"Frecuencia\")\n",
    "mid_point = (lower_bound + upper_bound) / 2\n",
    "plt.annotate(\n",
    "    '', \n",
    "    xy=(lower_bound, 1200), \n",
    "    xytext=(upper_bound, 1200),\n",
    "    arrowprops=dict(arrowstyle='<->', color='black')\n",
    ")\n",
    "plt.text(mid_point, 1200, 'Intervalo de confianza', ha='center', va='bottom', color='black')\n",
    "\n",
    "plt.show()"
   ]
  },
  {
   "cell_type": "markdown",
   "metadata": {},
   "source": [
    "# Visualizaciones"
   ]
  },
  {
   "cell_type": "code",
   "execution_count": 51,
   "metadata": {},
   "outputs": [
    {
     "name": "stderr",
     "output_type": "stream",
     "text": [
      "C:\\Users\\colla\\AppData\\Local\\Temp\\ipykernel_21764\\2654822939.py:18: FutureWarning: \n",
      "\n",
      "Passing `palette` without assigning `hue` is deprecated and will be removed in v0.14.0. Assign the `y` variable to `hue` and set `legend=False` for the same effect.\n",
      "\n",
      "  sns.violinplot(x=df.Value, y=df.Category, palette=\"muted\")\n"
     ]
    },
    {
     "data": {
      "image/png": "[encoded data removed]",
      "text/plain": [
       "<Figure size 1000x600 with 1 Axes>"
      ]
     },
     "metadata": {},
     "output_type": "display_data"
    }
   ],
   "source": [
    "import pandas as pd\n",
    "import seaborn as sns\n",
    "import matplotlib.pyplot as plt\n",
    "\n",
    "# Datos de ejemplo\n",
    "data_dict = tiempos\n",
    "\n",
    "# Convertir el diccionario en un DataFrame\n",
    "data = []\n",
    "for category, values in data_dict.items():\n",
    "    for value in values:\n",
    "        data.append((category, value))\n",
    "\n",
    "df = pd.DataFrame(data, columns=['Category', 'Value'])\n",
    "\n",
    "# Crear diagrama de violín\n",
    "plt.figure(figsize=(10, 6))\n",
    "sns.violinplot(x=df.Value, y=df.Category, palette=\"muted\")\n",
    "plt.title('Comparación empírica de algoritmos')\n",
    "plt.xlabel('Número de iteraciones')\n",
    "plt.ylabel('Algoritmo')\n",
    "plt.show()\n",
    "\n",
    "# sns.violinplot(\n",
    "#     x     = datos.total_spend,\n",
    "#     y     = datos.city_tier,\n",
    "#     color = \".8\",\n",
    "#     ax    = axs[0]\n",
    "# )\n"
   ]
  },
  {
   "cell_type": "code",
   "execution_count": null,
   "metadata": {},
   "outputs": [],
   "source": [
    "import seaborn as sns\n",
    "fig, axs = plt.subplots(nrows=1, ncols=2, figsize=(10, 3.5))\n",
    "sns.violinplot(\n",
    "    x     = datos.total_spend,\n",
    "    y     = datos.city_tier,\n",
    "    color = \".8\",\n",
    "    ax    = axs[0]\n",
    ")"
   ]
  },
  {
   "cell_type": "code",
   "execution_count": 164,
   "metadata": {},
   "outputs": [
    {
     "data": {
      "text/plain": [
       "114.77082112453179"
      ]
     },
     "execution_count": 164,
     "metadata": {},
     "output_type": "execute_result"
    }
   ],
   "source": [
    "np.mean(tiempos[\"SIACO\"])"
   ]
  }
 ],
 "metadata": {
  "kernelspec": {
   "display_name": "tfg",
   "language": "python",
   "name": "python3"
  },
  "language_info": {
   "codemirror_mode": {
    "name": "ipython",
    "version": 3
   },
   "file_extension": ".py",
   "mimetype": "text/x-python",
   "name": "python",
   "nbconvert_exporter": "python",
   "pygments_lexer": "ipython3",
   "version": "3.12.2"
  }
 },
 "nbformat": 4,
 "nbformat_minor": 2
}
